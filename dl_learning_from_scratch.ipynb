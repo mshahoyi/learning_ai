{
 "cells": [
  {
   "cell_type": "code",
   "execution_count": 1,
   "id": "b554e2ad",
   "metadata": {},
   "outputs": [],
   "source": [
    "import torch\n",
    "import numpy as np"
   ]
  },
  {
   "cell_type": "markdown",
   "id": "322991fe",
   "metadata": {},
   "source": [
    "# Implement matmul"
   ]
  },
  {
   "cell_type": "markdown",
   "id": "fc9082cf",
   "metadata": {},
   "source": [
    "## Using standard Python array"
   ]
  },
  {
   "cell_type": "code",
   "execution_count": 2,
   "id": "4ce586e1",
   "metadata": {},
   "outputs": [
    {
     "data": {
      "text/plain": [
       "[[1, 2], [3, 4]]"
      ]
     },
     "execution_count": 2,
     "metadata": {},
     "output_type": "execute_result"
    }
   ],
   "source": [
    "a = [\n",
    "    [1, 2],\n",
    "    [3, 4]\n",
    "]; a"
   ]
  },
  {
   "cell_type": "code",
   "execution_count": 3,
   "id": "41b62cfe",
   "metadata": {},
   "outputs": [
    {
     "data": {
      "text/plain": [
       "[[2, 3, 4], [2, 3, 4]]"
      ]
     },
     "execution_count": 3,
     "metadata": {},
     "output_type": "execute_result"
    }
   ],
   "source": [
    "b = [\n",
    "    [2, 3, 4],\n",
    "    [2, 3, 4]\n",
    "]; b"
   ]
  },
  {
   "cell_type": "markdown",
   "id": "28092981",
   "metadata": {},
   "source": [
    "Do it for one element"
   ]
  },
  {
   "cell_type": "code",
   "execution_count": 4,
   "id": "d204e8df",
   "metadata": {},
   "outputs": [
    {
     "data": {
      "text/plain": [
       "6"
      ]
     },
     "execution_count": 4,
     "metadata": {},
     "output_type": "execute_result"
    }
   ],
   "source": [
    "i = 0\n",
    "j = 0\n",
    "\n",
    "a_row = a[i]\n",
    "b_col = [elem[j] for elem in b]\n",
    "\n",
    "if len(a_row) != len(b_col): raise Exception(\"x's number of columns must equal y's numbe of rows\")\n",
    "    \n",
    "sum = 0\n",
    "for k in range(len(a_row)):\n",
    "    sum += a_row[k]*b_col[k]\n",
    "sum"
   ]
  },
  {
   "cell_type": "markdown",
   "id": "98204bb5",
   "metadata": {},
   "source": [
    "Make it a loop"
   ]
  },
  {
   "cell_type": "code",
   "execution_count": 5,
   "id": "155f6ddd",
   "metadata": {},
   "outputs": [],
   "source": [
    "from pdb import set_trace"
   ]
  },
  {
   "cell_type": "code",
   "execution_count": 8,
   "id": "ef459d04",
   "metadata": {},
   "outputs": [
    {
     "data": {
      "text/plain": [
       "[[6, 9, 12], [14, 21, 28]]"
      ]
     },
     "execution_count": 8,
     "metadata": {},
     "output_type": "execute_result"
    }
   ],
   "source": [
    "new_mat = []\n",
    "for i, a_row in enumerate(a):\n",
    "    new_row = []\n",
    "    for j in range(len(b[0])):\n",
    "        b_col = [elem[j] for elem in b]\n",
    "        \n",
    "        if len(a_row) != len(b_col): raise Exception(\"x's number of columns must equal y's numbe of rows\")\n",
    "        \n",
    "        sum = 0\n",
    "        for k in range(len(a_row)):\n",
    "            sum += a_row[k]*b_col[k]\n",
    "        new_row.append(sum)\n",
    "    new_mat.append(new_row)\n",
    "new_mat"
   ]
  },
  {
   "cell_type": "code",
   "execution_count": 11,
   "id": "5a04dddf",
   "metadata": {},
   "outputs": [],
   "source": [
    "true_res = [\n",
    "    [6, 9, 12],\n",
    "    [14, 21, 28]\n",
    "]\n",
    "\n",
    "assert true_res == new_mat"
   ]
  },
  {
   "cell_type": "code",
   "execution_count": 13,
   "id": "f68e358a",
   "metadata": {},
   "outputs": [],
   "source": [
    "def matmul(a, b):\n",
    "    new_mat = []\n",
    "    for i, a_row in enumerate(a):\n",
    "        new_row = []\n",
    "        for j in range(len(b[0])):\n",
    "            b_col = [elem[j] for elem in b]\n",
    "\n",
    "            if len(a_row) != len(b_col): raise Exception(\"x's number of columns must equal y's numbe of rows\")\n",
    "\n",
    "            sum = 0\n",
    "            for k in range(len(a_row)):\n",
    "                sum += a_row[k]*b_col[k]\n",
    "            new_row.append(sum)\n",
    "        new_mat.append(new_row)\n",
    "    return new_mat\n",
    "\n",
    "assert true_res == matmul(a, b)"
   ]
  },
  {
   "cell_type": "markdown",
   "id": "f97b0f08",
   "metadata": {},
   "source": [
    "### Reshape array"
   ]
  },
  {
   "cell_type": "code",
   "execution_count": 119,
   "id": "52d7e68d",
   "metadata": {},
   "outputs": [],
   "source": [
    "from matplotlib import pyplot as plt"
   ]
  },
  {
   "cell_type": "code",
   "execution_count": 120,
   "id": "08d4cbd8",
   "metadata": {},
   "outputs": [
    {
     "data": {
      "text/plain": [
       "[[1], [2], [3], [4], [5], [6]]"
      ]
     },
     "execution_count": 120,
     "metadata": {},
     "output_type": "execute_result"
    }
   ],
   "source": [
    "inp = [1, 2, 3, 4, 5, 6]\n",
    "\n",
    "size_x = 6\n",
    "size_y = 1\n",
    "result = []\n",
    "for x in range(size_x):\n",
    "    row = []\n",
    "    for y in range(size_y):\n",
    "        row.append(inp[x*size_y + y])\n",
    "    result.append(row)\n",
    "result"
   ]
  },
  {
   "cell_type": "code",
   "execution_count": 121,
   "id": "a42547a0",
   "metadata": {},
   "outputs": [
    {
     "data": {
      "text/plain": [
       "[[[1, 2, 3, 4, 5, 6]]]"
      ]
     },
     "execution_count": 121,
     "metadata": {},
     "output_type": "execute_result"
    }
   ],
   "source": [
    "inp = [1, 2, 3, 4, 5, 6]\n",
    "\n",
    "size_z, size_x, size_y = [1, 1, 6]\n",
    "result = []\n",
    "for z in range(size_z):\n",
    "    mat = []\n",
    "    for x in range(size_x):\n",
    "        row = []\n",
    "        for y in range(size_y):\n",
    "            row.append(inp[z*size_x + x*size_y + y])\n",
    "        mat.append(row)\n",
    "    result.append(mat)\n",
    "result"
   ]
  },
  {
   "cell_type": "code",
   "execution_count": 122,
   "id": "7ccee7f4",
   "metadata": {},
   "outputs": [
    {
     "data": {
      "text/plain": [
       "[[[1, 2, 3], [4, 5, 6]]]"
      ]
     },
     "execution_count": 122,
     "metadata": {},
     "output_type": "execute_result"
    }
   ],
   "source": [
    "def reshape(inp, sizes):\n",
    "    result = []\n",
    "    for z in range(sizes[0]):\n",
    "        mat = []\n",
    "        for x in range(sizes[1]):\n",
    "            row = []\n",
    "            for y in range(sizes[2]):\n",
    "                row.append(inp[z*sizes[1] + x*sizes[2] + y])\n",
    "            mat.append(row)\n",
    "        result.append(mat)\n",
    "    return result\n",
    "\n",
    "reshape(inp, (1, 2, 3))"
   ]
  },
  {
   "cell_type": "markdown",
   "id": "4e82b4c5",
   "metadata": {},
   "source": [
    "### Generate random numbers and test"
   ]
  },
  {
   "cell_type": "code",
   "execution_count": 204,
   "id": "221e2450",
   "metadata": {},
   "outputs": [],
   "source": [
    "random.seed(1)\n",
    "\n",
    "x = [10, 20, 30]\n",
    "\n",
    "types = [\n",
    "    ('random', None), ('uniform', (0,1)), ('triangular', None),\n",
    "    ('betavariate', (2, 4)),\n",
    "    ('gammavariate', (1, 2)),\n",
    "    ('gauss', (0, 1)),\n",
    "    ('lognormvariate', (0, 1)),\n",
    "    ('normalvariate', (0, 1)),\n",
    "    ('vonmisesvariate', (0, 1)),\n",
    "    ('weibullvariate', (1, 1)),\n",
    "]"
   ]
  },
  {
   "cell_type": "code",
   "execution_count": 205,
   "id": "8098ca63",
   "metadata": {},
   "outputs": [
    {
     "data": {
      "text/plain": [
       "[[[('random', None), ('uniform', (0, 1))],\n",
       "  [('triangular', None), ('betavariate', (2, 4))],\n",
       "  [('gammavariate', (1, 2)), ('gauss', (0, 1))],\n",
       "  [('lognormvariate', (0, 1)), ('normalvariate', (0, 1))],\n",
       "  [('vonmisesvariate', (0, 1)), ('weibullvariate', (1, 1))]]]"
      ]
     },
     "execution_count": 205,
     "metadata": {},
     "output_type": "execute_result"
    }
   ],
   "source": [
    "chart_dims = (5, 2)\n",
    "reshaped_types = reshape(types, (1,) + chart_dims)\n",
    "reshaped_types"
   ]
  },
  {
   "cell_type": "code",
   "execution_count": 207,
   "id": "5f4393ba",
   "metadata": {},
   "outputs": [
    {
     "data": {
      "image/png": "[encoded data removed]",
      "text/plain": [
       "<Figure size 1000x1000 with 10 Axes>"
      ]
     },
     "metadata": {},
     "output_type": "display_data"
    }
   ],
   "source": [
    "fig, ax = plt.subplots(*chart_dims, figsize=(10,10))\n",
    "plt.subplots_adjust(hspace=0.5)\n",
    "\n",
    "for i in range(chart_dims[0]):\n",
    "    for j in range(chart_dims[1]):\n",
    "        rtype, args = reshaped_types[0][i][j]\n",
    "        mapper = lambda _: getattr(random, rtype)() if args is None else getattr(random, rtype)(*args)\n",
    "        result = list(map(mapper, [_ for _ in range(1000)]))\n",
    "\n",
    "        ax[i][j].hist(result, bins=50)\n",
    "        ax[i][j].set_title(rtype)"
   ]
  },
  {
   "cell_type": "markdown",
   "id": "7eeaef41",
   "metadata": {},
   "source": [
    "### Performance testing"
   ]
  },
  {
   "cell_type": "code",
   "execution_count": 219,
   "id": "2235dba1",
   "metadata": {},
   "outputs": [
    {
     "data": {
      "text/plain": [
       "[0.5966449558277764,\n",
       " 0.9044182783363252,\n",
       " 0.3492288400688991,\n",
       " 0.7899550253074651,\n",
       " 0.19103120689201092]"
      ]
     },
     "execution_count": 219,
     "metadata": {},
     "output_type": "execute_result"
    }
   ],
   "source": [
    "def gen_random_array(size, fn='random', *args):\n",
    "    mapper = lambda _: getattr(random, fn)() if args is None else getattr(random, fn)(*args)\n",
    "    return list(map(mapper, [_ for _ in range(size)]))\n",
    "\n",
    "gen_random_array(5)"
   ]
  },
  {
   "cell_type": "code",
   "execution_count": 229,
   "id": "38ed6716",
   "metadata": {},
   "outputs": [
    {
     "name": "stdout",
     "output_type": "stream",
     "text": [
      "1.68 ms ± 5.26 µs per loop (mean ± std. dev. of 7 runs, 100 loops each)\n"
     ]
    }
   ],
   "source": [
    "a = reshape(gen_random_array(600), (1, 20, 30))[0]\n",
    "b = reshape(gen_random_array(1200), (1, 30, 40))[0]\n",
    "\n",
    "%timeit -n 100 c = matmul(a, b)"
   ]
  },
  {
   "cell_type": "code",
   "execution_count": null,
   "id": "53a9f8fe",
   "metadata": {},
   "outputs": [],
   "source": []
  }
 ],
 "metadata": {
  "kernelspec": {
   "display_name": "Python 3 (ipykernel)",
   "language": "python",
   "name": "python3"
  },
  "language_info": {
   "codemirror_mode": {
    "name": "ipython",
    "version": 3
   },
   "file_extension": ".py",
   "mimetype": "text/x-python",
   "name": "python",
   "nbconvert_exporter": "python",
   "pygments_lexer": "ipython3",
   "version": "3.11.10"
  }
 },
 "nbformat": 4,
 "nbformat_minor": 5
}
