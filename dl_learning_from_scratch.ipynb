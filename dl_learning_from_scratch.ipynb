{
 "cells": [
  {
   "cell_type": "code",
   "execution_count": 1,
   "id": "b554e2ad",
   "metadata": {},
   "outputs": [],
   "source": [
    "import torch\n",
    "import numpy as np"
   ]
  },
  {
   "cell_type": "markdown",
   "id": "322991fe",
   "metadata": {},
   "source": [
    "# Implement matmul"
   ]
  },
  {
   "cell_type": "markdown",
   "id": "fc9082cf",
   "metadata": {},
   "source": [
    "## Using standard Python array"
   ]
  },
  {
   "cell_type": "code",
   "execution_count": 2,
   "id": "4ce586e1",
   "metadata": {},
   "outputs": [
    {
     "data": {
      "text/plain": [
       "[[1, 2], [3, 4]]"
      ]
     },
     "execution_count": 2,
     "metadata": {},
     "output_type": "execute_result"
    }
   ],
   "source": [
    "a = [\n",
    "    [1, 2],\n",
    "    [3, 4]\n",
    "]; a"
   ]
  },
  {
   "cell_type": "code",
   "execution_count": 3,
   "id": "41b62cfe",
   "metadata": {},
   "outputs": [
    {
     "data": {
      "text/plain": [
       "[[2, 3, 4], [2, 3, 4]]"
      ]
     },
     "execution_count": 3,
     "metadata": {},
     "output_type": "execute_result"
    }
   ],
   "source": [
    "b = [\n",
    "    [2, 3, 4],\n",
    "    [2, 3, 4]\n",
    "]; b"
   ]
  },
  {
   "cell_type": "markdown",
   "id": "28092981",
   "metadata": {},
   "source": [
    "Do it for one element"
   ]
  },
  {
   "cell_type": "code",
   "execution_count": 4,
   "id": "d204e8df",
   "metadata": {},
   "outputs": [
    {
     "data": {
      "text/plain": [
       "6"
      ]
     },
     "execution_count": 4,
     "metadata": {},
     "output_type": "execute_result"
    }
   ],
   "source": [
    "i = 0\n",
    "j = 0\n",
    "\n",
    "a_row = a[i]\n",
    "b_col = [elem[j] for elem in b]\n",
    "\n",
    "if len(a_row) != len(b_col): raise Exception(\"x's number of columns must equal y's numbe of rows\")\n",
    "    \n",
    "sum = 0\n",
    "for k in range(len(a_row)):\n",
    "    sum += a_row[k]*b_col[k]\n",
    "sum"
   ]
  },
  {
   "cell_type": "markdown",
   "id": "98204bb5",
   "metadata": {},
   "source": [
    "Make it a loop"
   ]
  },
  {
   "cell_type": "code",
   "execution_count": 5,
   "id": "155f6ddd",
   "metadata": {},
   "outputs": [],
   "source": [
    "from pdb import set_trace"
   ]
  },
  {
   "cell_type": "code",
   "execution_count": 8,
   "id": "ef459d04",
   "metadata": {},
   "outputs": [
    {
     "data": {
      "text/plain": [
       "[[6, 9, 12], [14, 21, 28]]"
      ]
     },
     "execution_count": 8,
     "metadata": {},
     "output_type": "execute_result"
    }
   ],
   "source": [
    "new_mat = []\n",
    "for i, a_row in enumerate(a):\n",
    "    new_row = []\n",
    "    for j in range(len(b[0])):\n",
    "        b_col = [elem[j] for elem in b]\n",
    "        \n",
    "        if len(a_row) != len(b_col): raise Exception(\"x's number of columns must equal y's numbe of rows\")\n",
    "        \n",
    "        sum = 0\n",
    "        for k in range(len(a_row)):\n",
    "            sum += a_row[k]*b_col[k]\n",
    "        new_row.append(sum)\n",
    "    new_mat.append(new_row)\n",
    "new_mat"
   ]
  },
  {
   "cell_type": "code",
   "execution_count": 11,
   "id": "5a04dddf",
   "metadata": {},
   "outputs": [],
   "source": [
    "true_res = [\n",
    "    [6, 9, 12],\n",
    "    [14, 21, 28]\n",
    "]\n",
    "\n",
    "assert true_res == new_mat"
   ]
  },
  {
   "cell_type": "code",
   "execution_count": 13,
   "id": "f68e358a",
   "metadata": {},
   "outputs": [],
   "source": [
    "def matmul(a, b):\n",
    "    new_mat = []\n",
    "    for i, a_row in enumerate(a):\n",
    "        new_row = []\n",
    "        for j in range(len(b[0])):\n",
    "            b_col = [elem[j] for elem in b]\n",
    "\n",
    "            if len(a_row) != len(b_col): raise Exception(\"x's number of columns must equal y's numbe of rows\")\n",
    "\n",
    "            sum = 0\n",
    "            for k in range(len(a_row)):\n",
    "                sum += a_row[k]*b_col[k]\n",
    "            new_row.append(sum)\n",
    "        new_mat.append(new_row)\n",
    "    return new_mat\n",
    "\n",
    "assert true_res == matmul(a, b)"
   ]
  },
  {
   "cell_type": "markdown",
   "id": "f97b0f08",
   "metadata": {},
   "source": [
    "### Generate random numbers and "
   ]
  }
 ],
 "metadata": {
  "kernelspec": {
   "display_name": "Python 3 (ipykernel)",
   "language": "python",
   "name": "python3"
  },
  "language_info": {
   "codemirror_mode": {
    "name": "ipython",
    "version": 3
   },
   "file_extension": ".py",
   "mimetype": "text/x-python",
   "name": "python",
   "nbconvert_exporter": "python",
   "pygments_lexer": "ipython3",
   "version": "3.11.10"
  }
 },
 "nbformat": 4,
 "nbformat_minor": 5
}
