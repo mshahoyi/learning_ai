{
 "cells": [
  {
   "cell_type": "markdown",
   "id": "a7cc98d6-a839-44b9-8025-91055d7a5cac",
   "metadata": {},
   "source": [
    "In this notebook, I will try to \n",
    "- Download the mnist dataset using pythons url retrieve.\n",
    "- Create dataset and dataloader objects.\n",
    "- Create a linear model model and train it.\n",
    "- Visualize GPU usage during training.\n",
    "- Visualize model parameter properties during training."
   ]
  },
  {
   "cell_type": "markdown",
   "id": "f742aeca-0e26-418f-b88d-f20e4ec5686e",
   "metadata": {
    "jp-MarkdownHeadingCollapsed": true
   },
   "source": [
    "# Iteration 1: Download and train"
   ]
  },
  {
   "cell_type": "markdown",
   "id": "7572ec29-e7e7-4063-aaf1-538769879fab",
   "metadata": {},
   "source": [
    "For this iteration, I will try to create a working model as fast and minimal as I can. The only concern is to create a working model and see the loss and accuracy of my model."
   ]
  },
  {
   "cell_type": "markdown",
   "id": "edf0fd14-27b0-4bd5-ad4c-1a5753c6124f",
   "metadata": {
    "jp-MarkdownHeadingCollapsed": true
   },
   "source": [
    "## Download MNIST"
   ]
  },
  {
   "cell_type": "code",
   "execution_count": 2,
   "id": "615f077e-7520-4972-a123-47a7234415f0",
   "metadata": {},
   "outputs": [],
   "source": [
    "MNIST_URL='https://github.com/mnielsen/neural-networks-and-deep-learning/blob/master/data/mnist.pkl.gz?raw=true'"
   ]
  },
  {
   "cell_type": "code",
   "execution_count": 3,
   "id": "69f7478d-eab0-49d3-b17d-1f32302b44f0",
   "metadata": {},
   "outputs": [
    {
     "data": {
      "text/plain": [
       "(PosixPath('/home/ec2-user/app/data'),\n",
       " PosixPath('/home/ec2-user/app/data/mnist.pkl.gz'))"
      ]
     },
     "execution_count": 3,
     "metadata": {},
     "output_type": "execute_result"
    }
   ],
   "source": [
    "from pathlib import Path\n",
    "\n",
    "data_path = Path(\"../data\")\n",
    "data_path.mkdir(exist_ok=True)\n",
    "\n",
    "mnist_path = data_path / 'mnist.pkl.gz'\n",
    "data_path.resolve(), mnist_path.resolve()"
   ]
  },
  {
   "cell_type": "code",
   "execution_count": 4,
   "id": "f4d89288-cdfe-4221-8c4b-3f8381120a22",
   "metadata": {},
   "outputs": [
    {
     "name": "stdout",
     "output_type": "stream",
     "text": [
      "mnist.pkl.gz\n"
     ]
    }
   ],
   "source": [
    "from urllib.request import urlretrieve\n",
    "\n",
    "if not mnist_path.exists(): urlretrieve(MNIST_URL, mnist_path)\n",
    "!ls ../data"
   ]
  },
  {
   "cell_type": "markdown",
   "id": "780d0ecf-48ea-48ba-8bd1-b83f559ce0d1",
   "metadata": {
    "jp-MarkdownHeadingCollapsed": true
   },
   "source": [
    "## Decompress & load"
   ]
  },
  {
   "cell_type": "code",
   "execution_count": 5,
   "id": "65d30e67-3f97-4500-ab67-af82171a3d95",
   "metadata": {},
   "outputs": [
    {
     "name": "stdout",
     "output_type": "stream",
     "text": [
      "mnist.pkl  mnist.pkl.gz\n"
     ]
    }
   ],
   "source": [
    "import gzip\n",
    "import shutil\n",
    "\n",
    "mnist_pkl_path = data_path / 'mnist.pkl'\n",
    "\n",
    "if not mnist_pkl_path.exists():\n",
    "    with gzip.open(mnist_path, 'rb') as f_in:\n",
    "        with open(mnist_pkl_path, 'wb') as f_out:\n",
    "            shutil.copyfileobj(f_in, f_out)\n",
    "\n",
    "!ls ../data"
   ]
  },
  {
   "cell_type": "code",
   "execution_count": 6,
   "id": "3e544fd6-5378-49da-b596-79f09481b6b9",
   "metadata": {},
   "outputs": [],
   "source": [
    "import pickle\n",
    "\n",
    "with open(mnist_pkl_path, 'rb') as file:\n",
    "    mnist_data = pickle.load(file, encoding='latin1')\n",
    "\n",
    "((x_train_np, y_train_np), (x_valid_np, y_valid_np), _) = mnist_data"
   ]
  },
  {
   "cell_type": "code",
   "execution_count": 7,
   "id": "658ee831-666a-48be-97fe-94f091a8a20e",
   "metadata": {},
   "outputs": [
    {
     "data": {
      "text/plain": [
       "<torch._C.Generator at 0x7ff96b88acb0>"
      ]
     },
     "execution_count": 7,
     "metadata": {},
     "output_type": "execute_result"
    }
   ],
   "source": [
    "import torch\n",
    "\n",
    "torch.set_printoptions(linewidth=140)\n",
    "torch.manual_seed(42)"
   ]
  },
  {
   "cell_type": "code",
   "execution_count": 8,
   "id": "e70c9d41-7a66-4e05-b1d9-397f5c008bd4",
   "metadata": {},
   "outputs": [
    {
     "data": {
      "text/plain": [
       "(torch.Size([50000, 784]),\n",
       " torch.Size([50000]),\n",
       " torch.Size([10000, 784]),\n",
       " torch.Size([10000]))"
      ]
     },
     "execution_count": 8,
     "metadata": {},
     "output_type": "execute_result"
    }
   ],
   "source": [
    "x_train, y_train, x_valid, y_valid = torch.tensor(x_train_np), torch.tensor(y_train_np), torch.tensor(x_valid_np), torch.tensor(y_valid_np)\n",
    "x_train.shape, y_train.shape, x_valid.shape, y_valid.shape"
   ]
  },
  {
   "cell_type": "markdown",
   "id": "40b42cef-eacc-4345-ae59-be9923a61b30",
   "metadata": {
    "jp-MarkdownHeadingCollapsed": true
   },
   "source": [
    "## Visualize an image"
   ]
  },
  {
   "cell_type": "code",
   "execution_count": 9,
   "id": "452e8f76-51c5-4949-b1b9-43ac2b949666",
   "metadata": {},
   "outputs": [
    {
     "data": {
      "text/plain": [
       "(<matplotlib.image.AxesImage at 0x7ff8aa832650>, tensor(5))"
      ]
     },
     "execution_count": 9,
     "metadata": {},
     "output_type": "execute_result"
    },
    {
     "data": {
      "image/png": "[encoded data removed]",
      "text/plain": [
       "<Figure size 640x480 with 1 Axes>"
      ]
     },
     "metadata": {},
     "output_type": "display_data"
    }
   ],
   "source": [
    "from matplotlib import pyplot as plt\n",
    "\n",
    "plt.imshow(x_train[0].reshape(-1, 28), cmap='grey'), y_train[0]"
   ]
  },
  {
   "cell_type": "markdown",
   "id": "c4de16e6-316c-4562-91df-f77a4a320e83",
   "metadata": {
    "jp-MarkdownHeadingCollapsed": true
   },
   "source": [
    "## Simple linear model"
   ]
  },
  {
   "cell_type": "code",
   "execution_count": 10,
   "id": "ba5a8b55-841c-495c-83e2-516769894032",
   "metadata": {},
   "outputs": [],
   "source": [
    "# The model will have 28*28 input layer, no hidden layer, and 10 output layers.\n",
    "# The ten outputs each will have 784 weights and one bias. So the model has 7840 + 10 parameters.\n",
    "\n",
    "class Linear():\n",
    "    def __init__(self):\n",
    "        n_out = 10\n",
    "        n_in = x_train.shape[1]\n",
    "        self.weights = torch.rand((n_in, n_out))\n",
    "        self.biases = torch.rand(n_out)\n",
    "\n",
    "    def forward(self, xb):\n",
    "        return torch.einsum('ij,jk->ik', xb, self.weights) + self.biases"
   ]
  },
  {
   "cell_type": "code",
   "execution_count": 11,
   "id": "4a809b04-5c90-4ae2-8422-59571c9c6910",
   "metadata": {},
   "outputs": [
    {
     "data": {
      "text/plain": [
       "tensor([[51.9183, 55.9180, 54.5348, 56.5807, 53.8507, 54.7689, 60.2444, 53.8022, 56.0413, 52.0777],\n",
       "        [60.4977, 61.3303, 66.1262, 62.7357, 58.2110, 62.6643, 64.1884, 63.5394, 61.1308, 59.5316],\n",
       "        [40.2522, 42.3385, 38.1412, 39.2807, 40.5282, 36.1454, 42.3355, 39.0815, 38.7224, 38.6199],\n",
       "        [36.6732, 32.5491, 34.7537, 36.6066, 32.9395, 35.8008, 33.2390, 28.6313, 35.6575, 32.3496],\n",
       "        [47.7470, 46.0696, 48.4084, 46.7651, 45.6137, 42.6871, 47.8302, 44.3701, 45.7667, 46.8498]])"
      ]
     },
     "execution_count": 11,
     "metadata": {},
     "output_type": "execute_result"
    }
   ],
   "source": [
    "model = Linear()\n",
    "preds = model.forward(x_train[:5]); preds"
   ]
  },
  {
   "cell_type": "markdown",
   "id": "888b1106-40d4-409e-b9be-77ba4dead4f4",
   "metadata": {
    "jp-MarkdownHeadingCollapsed": true
   },
   "source": [
    "## Softmax"
   ]
  },
  {
   "cell_type": "code",
   "execution_count": 12,
   "id": "857d6882-5c31-4545-95ca-29aca73458c7",
   "metadata": {},
   "outputs": [
    {
     "data": {
      "text/plain": [
       "tensor([[2.2732e-04, 1.2408e-02, 3.1115e-03, 2.4073e-02, 1.5700e-03, 3.9325e-03, 9.3888e-01, 1.4956e-03, 1.4036e-02, 2.6660e-04],\n",
       "        [2.7546e-03, 6.3334e-03, 7.6646e-01, 2.5823e-02, 2.7988e-04, 2.4044e-02, 1.1039e-01, 5.7684e-02, 5.1881e-03, 1.0483e-03],\n",
       "        [5.0909e-02, 4.1010e-01, 6.1664e-03, 1.9270e-02, 6.7092e-02, 8.3804e-04, 4.0885e-01, 1.5790e-02, 1.1027e-02, 9.9523e-03],\n",
       "        [3.3918e-01, 5.4874e-03, 4.9750e-02, 3.1733e-01, 8.1077e-03, 1.4176e-01, 1.0939e-02, 1.0911e-04, 1.2284e-01, 4.4946e-03],\n",
       "        [1.8902e-01, 3.5319e-02, 3.6623e-01, 7.0804e-02, 2.2389e-02, 1.1995e-03, 2.0542e-01, 6.4553e-03, 2.6090e-02, 7.7068e-02]])"
      ]
     },
     "execution_count": 12,
     "metadata": {},
     "output_type": "execute_result"
    }
   ],
   "source": [
    "preds = preds.exp() / preds.exp().sum(1)[:, None]; preds"
   ]
  },
  {
   "cell_type": "code",
   "execution_count": 13,
   "id": "baedd5b4-74c7-41b7-85e9-083faada13e0",
   "metadata": {},
   "outputs": [
    {
     "data": {
      "text/plain": [
       "tensor([0, 1, 2, 3, 4, 5, 6, 7, 8, 9])"
      ]
     },
     "execution_count": 13,
     "metadata": {},
     "output_type": "execute_result"
    }
   ],
   "source": [
    "classes = torch.arange(0, 10); classes"
   ]
  },
  {
   "cell_type": "code",
   "execution_count": 14,
   "id": "b8b50dd7-4da0-4725-9c98-36ebf8cc6973",
   "metadata": {},
   "outputs": [
    {
     "data": {
      "text/plain": [
       "<BarContainer object of 10 artists>"
      ]
     },
     "execution_count": 14,
     "metadata": {},
     "output_type": "execute_result"
    },
    {
     "data": {
      "image/png": "[encoded data removed]",
      "text/plain": [
       "<Figure size 640x480 with 1 Axes>"
      ]
     },
     "metadata": {},
     "output_type": "display_data"
    }
   ],
   "source": [
    "plt.bar(classes, preds[0])"
   ]
  },
  {
   "cell_type": "code",
   "execution_count": 15,
   "id": "bb655c2e-e816-4a4c-9d1f-369036441d19",
   "metadata": {},
   "outputs": [],
   "source": [
    "import numpy as np\n",
    "np.set_printoptions(linewidth=180)"
   ]
  },
  {
   "cell_type": "code",
   "execution_count": 16,
   "id": "63f65152-0b7d-40c5-aec5-188484ceac7e",
   "metadata": {},
   "outputs": [
    {
     "data": {
      "text/plain": [
       "tensor([[0.9389],\n",
       "        [0.7665],\n",
       "        [0.4101],\n",
       "        [0.3392],\n",
       "        [0.3662]])"
      ]
     },
     "execution_count": 16,
     "metadata": {},
     "output_type": "execute_result"
    }
   ],
   "source": [
    "torch.max(preds, axis=1).values[:, None]"
   ]
  },
  {
   "cell_type": "code",
   "execution_count": 17,
   "id": "40530677-63a4-470a-bcbf-601b3581386e",
   "metadata": {},
   "outputs": [],
   "source": [
    "def softmax(x): \n",
    "    x = x - torch.max(x, axis=1).values[:, None]\n",
    "    return x.exp() / x.exp().sum(1)[:, None]\n",
    "\n",
    "class Linear():\n",
    "    def __init__(self, final_act=softmax):\n",
    "        n_out = 10\n",
    "        n_in = x_train.shape[1]\n",
    "        self.weights = torch.rand((n_in, n_out))\n",
    "        self.biases = torch.rand(n_out)\n",
    "        self.final_act = final_act\n",
    "\n",
    "    def forward(self, xb):\n",
    "        return self.final_act(torch.einsum('ij,jk->ik', xb, self.weights) + self.biases)\n",
    "\n",
    "    def train(self):\n",
    "        self.weights.requires_grad_(True)\n",
    "        self.biases.requires_grad_(True)\n",
    "    \n",
    "    def eval(self):\n",
    "        self.weights.requires_grad_(False)\n",
    "        self.biases.requires_grad_(False)"
   ]
  },
  {
   "cell_type": "code",
   "execution_count": 18,
   "id": "1c82045c-ad13-431b-b553-62281f2d45fb",
   "metadata": {},
   "outputs": [
    {
     "data": {
      "text/plain": [
       "tensor([[6.2292e-01, 3.4908e-02, 1.7192e-02, 1.3334e-01, 1.8954e-05, 6.1609e-02, 7.2298e-02, 1.0972e-02, 4.6453e-02, 2.9067e-04],\n",
       "        [4.4151e-04, 4.9165e-04, 7.5482e-02, 4.2844e-03, 1.8404e-03, 2.5274e-01, 1.0354e-02, 5.9081e-01, 9.5240e-03, 5.4040e-02],\n",
       "        [3.4141e-03, 1.7066e-02, 4.2548e-02, 1.8584e-02, 1.8730e-03, 1.5841e-01, 3.8312e-01, 1.3617e-01, 3.0458e-03, 2.3577e-01],\n",
       "        [3.6539e-03, 1.9475e-03, 1.8062e-04, 2.8379e-03, 8.0658e-04, 9.1254e-03, 1.5893e-01, 3.1272e-03, 1.2099e-01, 6.9841e-01],\n",
       "        [4.1996e-03, 3.1849e-02, 1.9234e-03, 2.4501e-02, 6.6173e-02, 3.3356e-01, 1.1205e-02, 2.1479e-01, 3.0410e-01, 7.7073e-03]])"
      ]
     },
     "execution_count": 18,
     "metadata": {},
     "output_type": "execute_result"
    }
   ],
   "source": [
    "model = Linear()\n",
    "preds = model.forward(x_train[:5]); preds"
   ]
  },
  {
   "cell_type": "code",
   "execution_count": 19,
   "id": "5fb8c75d-6147-47ec-8986-f0474646d4e8",
   "metadata": {},
   "outputs": [
    {
     "data": {
      "text/plain": [
       "<BarContainer object of 10 artists>"
      ]
     },
     "execution_count": 19,
     "metadata": {},
     "output_type": "execute_result"
    },
    {
     "data": {
      "image/png": "[encoded data removed]",
      "text/plain": [
       "<Figure size 640x480 with 1 Axes>"
      ]
     },
     "metadata": {},
     "output_type": "display_data"
    }
   ],
   "source": [
    "plt.bar(classes, preds[0])"
   ]
  },
  {
   "cell_type": "code",
   "execution_count": 20,
   "id": "894ac294-7f45-45c2-9ae0-9029254ff57b",
   "metadata": {},
   "outputs": [],
   "source": [
    "from fastcore.all import *\n",
    "import torch.nn.functional as F"
   ]
  },
  {
   "cell_type": "code",
   "execution_count": 21,
   "id": "991842b2-cd59-47fb-a588-819fb5de7430",
   "metadata": {},
   "outputs": [],
   "source": [
    "test_close(F.softmax(preds, dim=1), softmax(preds))"
   ]
  },
  {
   "cell_type": "markdown",
   "id": "7d8da4a8-8336-485e-bc73-6e325f0a5755",
   "metadata": {
    "jp-MarkdownHeadingCollapsed": true
   },
   "source": [
    "## Loss function"
   ]
  },
  {
   "cell_type": "code",
   "execution_count": 22,
   "id": "c77a8925-d89b-440c-b1b9-a0521343d2b4",
   "metadata": {},
   "outputs": [
    {
     "data": {
      "text/plain": [
       "tensor([-2.7869, -7.7253, -6.2802, -6.2412, -4.8656])"
      ]
     },
     "execution_count": 22,
     "metadata": {},
     "output_type": "execute_result"
    }
   ],
   "source": [
    "y_train_oh = F.one_hot(y_train, num_classes=len(classes))\n",
    "\n",
    "# should give me a big loss for 5\n",
    "(y_train_oh[:5]*preds.log()).sum(1)"
   ]
  },
  {
   "cell_type": "code",
   "execution_count": 23,
   "id": "7ec385e2-f6af-47f7-a477-af638022cb13",
   "metadata": {},
   "outputs": [
    {
     "data": {
      "text/plain": [
       "tensor([nan, nan, nan, nan, nan, 0., nan, nan, nan, nan])"
      ]
     },
     "execution_count": 23,
     "metadata": {},
     "output_type": "execute_result"
    }
   ],
   "source": [
    "# should be zero\n",
    "true_pred = torch.zeros(10); true_pred[5] = 1; true_pred\n",
    "y_train_oh[0]*true_pred.log()"
   ]
  },
  {
   "cell_type": "code",
   "execution_count": 24,
   "id": "aab8037a-fb75-45bd-be47-e6b11fbce3a2",
   "metadata": {},
   "outputs": [],
   "source": [
    "def ce_loss(preds, targets_oh):\n",
    "    return (-targets_oh*preds.log()).sum(1)"
   ]
  },
  {
   "cell_type": "code",
   "execution_count": 25,
   "id": "dacaccc6-6528-42b8-ae3d-1e45643f9bb5",
   "metadata": {},
   "outputs": [
    {
     "data": {
      "text/plain": [
       "tensor([2.7869, 7.7253, 6.2802, 6.2412, 4.8656])"
      ]
     },
     "execution_count": 25,
     "metadata": {},
     "output_type": "execute_result"
    }
   ],
   "source": [
    "ce_loss(preds, y_train_oh[:5])"
   ]
  },
  {
   "cell_type": "markdown",
   "id": "20e1dad4-0d52-471b-bfde-7cb2b21bea25",
   "metadata": {
    "jp-MarkdownHeadingCollapsed": true
   },
   "source": [
    "## Training"
   ]
  },
  {
   "cell_type": "code",
   "execution_count": 26,
   "id": "37d3702d-3b12-403d-9154-99bbdd776990",
   "metadata": {},
   "outputs": [
    {
     "data": {
      "text/plain": [
       "torch.return_types.max(\n",
       "values=tensor([1.1309, 2.8249]),\n",
       "indices=tensor([7, 5]))"
      ]
     },
     "execution_count": 26,
     "metadata": {},
     "output_type": "execute_result"
    }
   ],
   "source": [
    "torch.randn(10, 2).max(0)"
   ]
  },
  {
   "cell_type": "code",
   "execution_count": 27,
   "id": "5805b7e3-d971-4d5d-b70b-feefe9125a19",
   "metadata": {},
   "outputs": [
    {
     "name": "stdout",
     "output_type": "stream",
     "text": [
      "Epoch: 1 | Loss: 0.92 | Accuracy: 0.67\n",
      "Epoch: 2 | Loss: 0.71 | Accuracy: 0.77\n",
      "Epoch: 3 | Loss: 0.62 | Accuracy: 0.81\n",
      "Epoch: 4 | Loss: 0.57 | Accuracy: 0.83\n",
      "Epoch: 5 | Loss: 0.53 | Accuracy: 0.84\n"
     ]
    }
   ],
   "source": [
    "epoch = 5\n",
    "lr = 0.01\n",
    "bs = 64\n",
    "\n",
    "for e in range(epoch):\n",
    "    epoch_loss = 0\n",
    "    for b in range(0, len(x_train) - bs, bs):\n",
    "        model.train()\n",
    "        xb = x_train[b:b+bs]\n",
    "        preds = model.forward(xb)\n",
    "        loss = ce_loss(preds, y_train_oh[b:b+bs]).mean()\n",
    "        loss.backward()\n",
    "\n",
    "        epoch_loss += loss\n",
    "        \n",
    "        with torch.no_grad():\n",
    "            model.weights -= lr*model.weights.grad\n",
    "            model.weights.grad.zero_()\n",
    "            model.biases -= lr*model.biases.grad\n",
    "            model.biases.grad.zero_()\n",
    "        \n",
    "    model.eval()\n",
    "    accuracy = (model.forward(x_train).max(1).indices == y_train).float().mean().item()\n",
    "    print(f'Epoch: {e+1} | Loss: {loss:.2f} | Accuracy: {accuracy:.2f}')\n"
   ]
  },
  {
   "cell_type": "markdown",
   "id": "74bb8eab-2c26-44af-8298-1b6ab73b005e",
   "metadata": {
    "jp-MarkdownHeadingCollapsed": true
   },
   "source": [
    "# Iteration 2: Visualise GPU usage"
   ]
  },
  {
   "cell_type": "markdown",
   "id": "4b47e7de-7997-47ac-abb1-4dbe2e9c2d82",
   "metadata": {
    "jp-MarkdownHeadingCollapsed": true
   },
   "source": [
    "### Print GPU stats"
   ]
  },
  {
   "cell_type": "code",
   "execution_count": 28,
   "id": "72c291cd-42fd-473f-8f39-759d8f23348d",
   "metadata": {},
   "outputs": [
    {
     "name": "stdout",
     "output_type": "stream",
     "text": [
      "Epoch: 1 | Loss: 0.50 | Accuracy: 0.85 | Allocated memory: 0.0 | Cached memory: 0.0\n",
      "Epoch: 2 | Loss: 0.48 | Accuracy: 0.86 | Allocated memory: 0.0 | Cached memory: 0.0\n",
      "Epoch: 3 | Loss: 0.46 | Accuracy: 0.87 | Allocated memory: 0.0 | Cached memory: 0.0\n",
      "Epoch: 4 | Loss: 0.45 | Accuracy: 0.87 | Allocated memory: 0.0 | Cached memory: 0.0\n",
      "Epoch: 5 | Loss: 0.43 | Accuracy: 0.87 | Allocated memory: 0.0 | Cached memory: 0.0\n"
     ]
    }
   ],
   "source": [
    "epoch = 5\n",
    "lr = 0.01\n",
    "bs = 64\n",
    "\n",
    "for e in range(epoch):\n",
    "    epoch_loss = 0\n",
    "    for b in range(0, len(x_train) - bs, bs):\n",
    "        model.train()\n",
    "        xb = x_train[b:b+bs]\n",
    "        preds = model.forward(xb)\n",
    "        loss = ce_loss(preds, y_train_oh[b:b+bs]).mean()\n",
    "        loss.backward()\n",
    "\n",
    "        epoch_loss += loss\n",
    "        \n",
    "        with torch.no_grad():\n",
    "            model.weights -= lr*model.weights.grad\n",
    "            model.weights.grad.zero_()\n",
    "            model.biases -= lr*model.biases.grad\n",
    "            model.biases.grad.zero_()\n",
    "        \n",
    "    model.eval()\n",
    "    accuracy = (model.forward(x_train).max(1).indices == y_train).float().mean().item()\n",
    "    alloc_mem = torch.cuda.memory_allocated() / 1024**2\n",
    "    res_mem = torch.cuda.memory_reserved() / 1024**2\n",
    "    print(f'Epoch: {e+1} | Loss: {loss:.2f} | Accuracy: {accuracy:.2f} | Allocated memory: {alloc_mem} | Cached memory: {res_mem}')\n"
   ]
  },
  {
   "cell_type": "markdown",
   "id": "5970b9c4-9258-4aaf-9284-803cd2271d9d",
   "metadata": {
    "jp-MarkdownHeadingCollapsed": true
   },
   "source": [
    "### Add Tensorboard"
   ]
  },
  {
   "cell_type": "code",
   "execution_count": 29,
   "id": "4133eee9-d91c-4bd2-962b-134423033003",
   "metadata": {},
   "outputs": [],
   "source": [
    "from torch.utils.tensorboard import SummaryWriter"
   ]
  },
  {
   "cell_type": "code",
   "execution_count": 30,
   "id": "c5e3707d-3ce2-472a-b626-7a72baa99b70",
   "metadata": {},
   "outputs": [
    {
     "name": "stdout",
     "output_type": "stream",
     "text": [
      "Epoch: 1 | Loss: 0.42 | Accuracy: 0.88 | Allocated memory: 0.0 Mb | Cached memory: 0.0 Mb\n",
      "Epoch: 2 | Loss: 0.41 | Accuracy: 0.88 | Allocated memory: 0.0 Mb | Cached memory: 0.0 Mb\n",
      "Epoch: 3 | Loss: 0.40 | Accuracy: 0.88 | Allocated memory: 0.0 Mb | Cached memory: 0.0 Mb\n",
      "Epoch: 4 | Loss: 0.39 | Accuracy: 0.88 | Allocated memory: 0.0 Mb | Cached memory: 0.0 Mb\n",
      "Epoch: 5 | Loss: 0.39 | Accuracy: 0.89 | Allocated memory: 0.0 Mb | Cached memory: 0.0 Mb\n"
     ]
    }
   ],
   "source": [
    "epoch = 5\n",
    "lr = 0.01\n",
    "bs = 64\n",
    "writer = SummaryWriter('runs/experiment_1')\n",
    "\n",
    "for e in range(epoch):\n",
    "    epoch_loss = 0\n",
    "    for b in range(0, len(x_train) - bs, bs):\n",
    "        model.train()\n",
    "        xb = x_train[b:b+bs]\n",
    "        preds = model.forward(xb)\n",
    "        loss = ce_loss(preds, y_train_oh[b:b+bs]).mean()\n",
    "        loss.backward()\n",
    "\n",
    "        epoch_loss += loss\n",
    "        \n",
    "        with torch.no_grad():\n",
    "            model.weights -= lr*model.weights.grad\n",
    "            model.weights.grad.zero_()\n",
    "            model.biases -= lr*model.biases.grad\n",
    "            model.biases.grad.zero_()\n",
    "        \n",
    "    model.eval()\n",
    "    accuracy = (model.forward(x_train).max(1).indices == y_train).float().mean().item()\n",
    "    alloc_mem = torch.cuda.memory_allocated() / 1024**2\n",
    "    res_mem = torch.cuda.memory_reserved() / 1024**2\n",
    "    print(f'Epoch: {e+1} | Loss: {loss:.2f} | Accuracy: {accuracy:.2f} | Allocated memory: {alloc_mem} Mb | Cached memory: {res_mem} Mb')\n",
    "    writer.add_scalar('Loss/train', loss, e+1)\n",
    "    writer.add_scalar('Accuracy/train', accuracy, e+1)        \n",
    "    writer.add_scalar('GPU/Allocated Memory', alloc_mem, epoch)\n",
    "    writer.add_scalar('GPU/Cached Memory', res_mem, epoch)\n",
    "    \n",
    "writer.close()"
   ]
  },
  {
   "cell_type": "markdown",
   "id": "c9f0226a-464a-40b7-b467-98426531c9d0",
   "metadata": {
    "jp-MarkdownHeadingCollapsed": true
   },
   "source": [
    "### Time each run"
   ]
  },
  {
   "cell_type": "code",
   "execution_count": 31,
   "id": "1b7e8678-ce65-400e-8271-984a4cfa75e8",
   "metadata": {},
   "outputs": [
    {
     "name": "stdout",
     "output_type": "stream",
     "text": [
      "Epoch: 1 | Time: 0.13s | Loss: 0.37 | Accuracy: 0.89 | Allocated memory: 0.0 Mb | Cached memory: 0.0 Mb\n",
      "Epoch: 2 | Time: 0.13s | Loss: 0.37 | Accuracy: 0.89 | Allocated memory: 0.0 Mb | Cached memory: 0.0 Mb\n",
      "Epoch: 3 | Time: 0.13s | Loss: 0.37 | Accuracy: 0.89 | Allocated memory: 0.0 Mb | Cached memory: 0.0 Mb\n",
      "Epoch: 4 | Time: 0.13s | Loss: 0.37 | Accuracy: 0.89 | Allocated memory: 0.0 Mb | Cached memory: 0.0 Mb\n",
      "Epoch: 5 | Time: 0.13s | Loss: 0.37 | Accuracy: 0.89 | Allocated memory: 0.0 Mb | Cached memory: 0.0 Mb\n"
     ]
    }
   ],
   "source": [
    "import time\n",
    "\n",
    "epoch = 5\n",
    "lr = 0.01\n",
    "bs = 1024\n",
    "writer = SummaryWriter('runs/experiment_1')\n",
    "\n",
    "for e in range(epoch):\n",
    "    epoch_loss = 0\n",
    "    start_time = time.time()\n",
    "    \n",
    "    for b in range(0, len(x_train) - bs, bs):\n",
    "        model.train()\n",
    "        xb = x_train[b:b+bs]\n",
    "        preds = model.forward(xb)\n",
    "        loss = ce_loss(preds, y_train_oh[b:b+bs]).mean()\n",
    "        loss.backward()\n",
    "\n",
    "        epoch_loss += loss\n",
    "        \n",
    "        with torch.no_grad():\n",
    "            model.weights -= lr*model.weights.grad\n",
    "            model.weights.grad.zero_()\n",
    "            model.biases -= lr*model.biases.grad\n",
    "            model.biases.grad.zero_()\n",
    "        \n",
    "    model.eval()\n",
    "    accuracy = (model.forward(x_train).max(1).indices == y_train).float().mean().item()\n",
    "    alloc_mem = torch.cuda.memory_allocated() / 1024**2\n",
    "    res_mem = torch.cuda.memory_reserved() / 1024**2\n",
    "    end_time = time.time()\n",
    "    dur = end_time - start_time\n",
    "    print(f'Epoch: {e+1} | Time: {dur:.2f}s | Loss: {loss:.2f} | Accuracy: {accuracy:.2f} | Allocated memory: {alloc_mem} Mb | Cached memory: {res_mem} Mb')\n",
    "    writer.add_scalar('Loss/train', loss, e+1)\n",
    "    writer.add_scalar('Accuracy/train', accuracy, e+1)        \n",
    "    writer.add_scalar('GPU/Allocated Memory', alloc_mem, epoch)\n",
    "    writer.add_scalar('GPU/Cached Memory', res_mem, epoch)\n",
    "    writer.add_scalar('Duration', dur, epoch)\n",
    "    \n",
    "writer.close()"
   ]
  },
  {
   "cell_type": "markdown",
   "id": "f3e3a27f-4f0b-4649-a310-ded33d0816a7",
   "metadata": {},
   "source": [
    "### Transfer to GPU"
   ]
  },
  {
   "cell_type": "code",
   "execution_count": 32,
   "id": "9461871e-f7be-4301-9ad0-7d2dd718c4e1",
   "metadata": {},
   "outputs": [
    {
     "name": "stdout",
     "output_type": "stream",
     "text": [
      "CUDA Available: True\n",
      "Number of GPUs: 1\n",
      "Current GPU: 0\n",
      "GPU Name: NVIDIA L4\n"
     ]
    }
   ],
   "source": [
    "print(\"CUDA Available:\", torch.cuda.is_available())\n",
    "print(\"Number of GPUs:\", torch.cuda.device_count())\n",
    "print(\"Current GPU:\", torch.cuda.current_device())\n",
    "print(\"GPU Name:\", torch.cuda.get_device_name(torch.cuda.current_device()))"
   ]
  },
  {
   "cell_type": "code",
   "execution_count": 33,
   "id": "19560d31-27de-4ac7-8fe1-dd41953d04e9",
   "metadata": {},
   "outputs": [
    {
     "data": {
      "text/plain": [
       "device(type='cuda')"
      ]
     },
     "execution_count": 33,
     "metadata": {},
     "output_type": "execute_result"
    }
   ],
   "source": [
    "device = torch.device('cuda' if torch.cuda.is_available() else 'cpu')\n",
    "device"
   ]
  },
  {
   "cell_type": "code",
   "execution_count": 34,
   "id": "d7f64899-8caa-4876-932c-456dc1e24955",
   "metadata": {},
   "outputs": [],
   "source": [
    "# Move the model to GPU\n",
    "\n",
    "class Linear():\n",
    "    def __init__(self, final_act=softmax):\n",
    "        n_out = 10\n",
    "        n_in = x_train.shape[1]\n",
    "        self.weights = torch.rand((n_in, n_out)).to(device)\n",
    "        self.biases = torch.rand(n_out).to(device)\n",
    "        self.final_act = final_act\n",
    "\n",
    "    def forward(self, xb):\n",
    "        return self.final_act(torch.einsum('ij,jk->ik', xb, self.weights) + self.biases)\n",
    "\n",
    "    def train(self):\n",
    "        self.weights.requires_grad_(True)\n",
    "        self.biases.requires_grad_(True)\n",
    "    \n",
    "    def eval(self):\n",
    "        self.weights.requires_grad_(False)\n",
    "        self.biases.requires_grad_(False)"
   ]
  },
  {
   "cell_type": "code",
   "execution_count": 35,
   "id": "8fd64442-8c44-452a-8406-98038cfcb40f",
   "metadata": {},
   "outputs": [],
   "source": [
    "model = Linear()"
   ]
  },
  {
   "cell_type": "code",
   "execution_count": 36,
   "id": "625fe144-d2c5-464c-8170-14d2787702ea",
   "metadata": {},
   "outputs": [],
   "source": [
    "x_train = x_train.to(device)\n",
    "y_train = y_train.to(device)\n",
    "y_train_oh = y_train_oh.to(device)"
   ]
  },
  {
   "cell_type": "code",
   "execution_count": 37,
   "id": "98d7e75a-8a3d-4c37-a47f-94f82a41edea",
   "metadata": {},
   "outputs": [
    {
     "name": "stdout",
     "output_type": "stream",
     "text": [
      "Epoch: 1 | Time: 0.14s | Loss: 2.98 | Accuracy: 0.23 | Allocated memory: 170.55 Mb | Cached memory: 192.00 Mb\n",
      "Epoch: 2 | Time: 0.04s | Loss: 2.56 | Accuracy: 0.29 | Allocated memory: 170.55 Mb | Cached memory: 192.00 Mb\n",
      "Epoch: 3 | Time: 0.04s | Loss: 2.24 | Accuracy: 0.34 | Allocated memory: 170.55 Mb | Cached memory: 192.00 Mb\n",
      "Epoch: 4 | Time: 0.04s | Loss: 1.99 | Accuracy: 0.40 | Allocated memory: 170.55 Mb | Cached memory: 192.00 Mb\n",
      "Epoch: 5 | Time: 0.04s | Loss: 1.80 | Accuracy: 0.45 | Allocated memory: 170.55 Mb | Cached memory: 192.00 Mb\n"
     ]
    }
   ],
   "source": [
    "import time\n",
    "import pdb\n",
    "\n",
    "epoch = 5\n",
    "lr = 0.01\n",
    "bs = 1024\n",
    "writer = SummaryWriter('runs/experiment_2')\n",
    "\n",
    "\n",
    "for e in range(epoch):\n",
    "    epoch_loss = 0\n",
    "    start_time = time.time()\n",
    "    \n",
    "    for b in range(0, len(x_train) - bs, bs):\n",
    "        model.train()\n",
    "        xb = x_train[b:b+bs]\n",
    "        # pdb.set_trace()\n",
    "        preds = model.forward(xb)\n",
    "        loss = ce_loss(preds, y_train_oh[b:b+bs]).mean()\n",
    "        loss.backward()\n",
    "\n",
    "        epoch_loss += loss\n",
    "        \n",
    "        with torch.no_grad():\n",
    "            model.weights -= lr*model.weights.grad\n",
    "            model.weights.grad.zero_()\n",
    "            model.biases -= lr*model.biases.grad\n",
    "            model.biases.grad.zero_()\n",
    "        \n",
    "    model.eval()\n",
    "    accuracy = (model.forward(x_train).max(1).indices == y_train).float().mean().item()\n",
    "    alloc_mem = torch.cuda.memory_allocated() / 1024**2\n",
    "    res_mem = torch.cuda.memory_reserved() / 1024**2\n",
    "    end_time = time.time()\n",
    "    dur = end_time - start_time\n",
    "    print(f'Epoch: {e+1} | Time: {dur:.2f}s | Loss: {loss:.2f} | Accuracy: {accuracy:.2f} | Allocated memory: {alloc_mem:.2f} Mb | Cached memory: {res_mem:.2f} Mb')\n",
    "    writer.add_scalar('Loss/train', loss, e+1)\n",
    "    writer.add_scalar('Accuracy/train', accuracy, e+1)        \n",
    "    writer.add_scalar('GPU/Allocated Memory', alloc_mem, epoch)\n",
    "    writer.add_scalar('GPU/Cached Memory', res_mem, epoch)\n",
    "    writer.add_scalar('Duration', dur, epoch)\n",
    "    \n",
    "writer.close()"
   ]
  },
  {
   "cell_type": "markdown",
   "id": "cd62998e-25f7-4e10-8439-783e38140843",
   "metadata": {},
   "source": [
    "### Visualise GPU"
   ]
  },
  {
   "cell_type": "code",
   "execution_count": 38,
   "id": "c9b06d57-7078-4fac-97ab-80bc8a334c10",
   "metadata": {},
   "outputs": [],
   "source": [
    "import gc\n",
    "\n",
    "def clear_gpu_memory():\n",
    "    # Clear cached memory\n",
    "    torch.cuda.empty_cache()\n",
    "    \n",
    "    # Collect garbage\n",
    "    gc.collect()  # Manually trigger garbage collection\n",
    "\n",
    "clear_gpu_memory()"
   ]
  },
  {
   "cell_type": "code",
   "execution_count": 39,
   "id": "f5bef36f-765e-4613-8bb6-2315ef3a6c25",
   "metadata": {},
   "outputs": [
    {
     "name": "stdout",
     "output_type": "stream",
     "text": [
      "Epoch: 1 | Time: 0.05s | Loss: 1.65 | Accuracy: 0.48 | Allocated memory: 170.55 Mb | Cached memory: 192.00 Mb\n",
      "Epoch: 2 | Time: 0.05s | Loss: 1.52 | Accuracy: 0.52 | Allocated memory: 170.55 Mb | Cached memory: 192.00 Mb\n",
      "Epoch: 3 | Time: 0.05s | Loss: 1.42 | Accuracy: 0.55 | Allocated memory: 170.55 Mb | Cached memory: 192.00 Mb\n",
      "Epoch: 4 | Time: 0.05s | Loss: 1.33 | Accuracy: 0.57 | Allocated memory: 170.55 Mb | Cached memory: 192.00 Mb\n",
      "Epoch: 5 | Time: 0.05s | Loss: 1.26 | Accuracy: 0.59 | Allocated memory: 170.55 Mb | Cached memory: 192.00 Mb\n"
     ]
    },
    {
     "data": {
      "text/plain": [
       "Text(0.5, 1.0, 'GPU Cache (Reserved) Memory')"
      ]
     },
     "execution_count": 39,
     "metadata": {},
     "output_type": "execute_result"
    },
    {
     "data": {
      "image/png": "[encoded data removed]",
      "text/plain": [
       "<Figure size 800x100 with 2 Axes>"
      ]
     },
     "metadata": {},
     "output_type": "display_data"
    }
   ],
   "source": [
    "import time\n",
    "import pdb\n",
    "\n",
    "epoch = 5\n",
    "lr = 0.01\n",
    "bs = 1024\n",
    "writer = SummaryWriter('runs/experiment_2')\n",
    "gpu_alloc = []\n",
    "gpu_res = []\n",
    "\n",
    "\n",
    "for e in range(epoch):\n",
    "    epoch_loss = 0\n",
    "    start_time = time.time()\n",
    "    \n",
    "    for b in range(0, len(x_train) - bs, bs):\n",
    "        model.train()\n",
    "        xb = x_train[b:b+bs]\n",
    "        # pdb.set_trace()\n",
    "        preds = model.forward(xb)\n",
    "        loss = ce_loss(preds, y_train_oh[b:b+bs]).mean()\n",
    "        loss.backward()\n",
    "\n",
    "        epoch_loss += loss\n",
    "\n",
    "        gpu_alloc.append(torch.cuda.memory_allocated() / 1024**2)\n",
    "        gpu_res.append(torch.cuda.memory_reserved() / 1024**2)\n",
    "        \n",
    "        with torch.no_grad():\n",
    "            model.weights -= lr*model.weights.grad\n",
    "            model.weights.grad.zero_()\n",
    "            model.biases -= lr*model.biases.grad\n",
    "            model.biases.grad.zero_()\n",
    "        \n",
    "    model.eval()\n",
    "    accuracy = (model.forward(x_train).max(1).indices == y_train).float().mean().item()\n",
    "    alloc_mem = torch.cuda.memory_allocated() / 1024**2\n",
    "    gpu_alloc.append(alloc_mem)\n",
    "    res_mem = torch.cuda.memory_reserved() / 1024**2\n",
    "    gpu_res.append(res_mem)\n",
    "    end_time = time.time()\n",
    "    dur = end_time - start_time\n",
    "    print(f'Epoch: {e+1} | Time: {dur:.2f}s | Loss: {loss:.2f} | Accuracy: {accuracy:.2f} | Allocated memory: {alloc_mem:.2f} Mb | Cached memory: {res_mem:.2f} Mb')\n",
    "    writer.add_scalar('Loss/train', loss, e+1)\n",
    "    writer.add_scalar('Accuracy/train', accuracy, e+1)        \n",
    "    writer.add_scalar('GPU/Allocated Memory', alloc_mem, epoch)\n",
    "    writer.add_scalar('GPU/Cached Memory', res_mem, epoch)\n",
    "    writer.add_scalar('Duration', dur, epoch)\n",
    "    \n",
    "writer.close()\n",
    "fig, ax = plt.subplots(1, 2, figsize=(8,1))\n",
    "ax[0].plot(torch.arange(len(gpu_alloc)), gpu_alloc)\n",
    "ax[0].set_title(\"GPU Allocated Memory\")\n",
    "\n",
    "ax[1].plot(torch.arange(len(gpu_res)), gpu_res)\n",
    "ax[1].set_title(\"GPU Cache (Reserved) Memory\")"
   ]
  },
  {
   "cell_type": "markdown",
   "id": "574f0e7a-56f9-4331-a966-b734e17d2790",
   "metadata": {
    "jp-MarkdownHeadingCollapsed": true
   },
   "source": [
    "# Iteration 3: Datasets and Dataloaders"
   ]
  },
  {
   "cell_type": "markdown",
   "id": "ab750b3d-51e9-42eb-a7fa-60f3198dd083",
   "metadata": {},
   "source": [
    "In this iteration, I will create datasets and dataloaders for training and validation."
   ]
  },
  {
   "cell_type": "markdown",
   "id": "ecb01af5-967c-4033-8d37-f258dac328a5",
   "metadata": {},
   "source": [
    "### Datasets"
   ]
  },
  {
   "cell_type": "code",
   "execution_count": 40,
   "id": "e3e55002-b37e-4076-a1bf-77fae79b8c56",
   "metadata": {},
   "outputs": [],
   "source": [
    "import pickle\n",
    "import shutil\n",
    "from urllib.request import urlretrieve\n",
    "from pathlib import Path\n",
    "import gzip\n",
    "import torch\n",
    "\n",
    "class MNISTDataset():\n",
    "    def __init__(self, path=\"../data\", test=False, device=device):\n",
    "        MNIST_URL='https://github.com/mnielsen/neural-networks-and-deep-learning/blob/master/data/mnist.pkl.gz?raw=true'\n",
    "        data_path = Path(path)\n",
    "        data_path.mkdir(exist_ok=True)\n",
    "        gz_path = data_path / \"mnist.pkl.gz\"\n",
    "        if not gz_path.exists(): urlretrieve(MNIST_URL, gz_path)\n",
    "        pkl_path = data_path / \"mnist.pkl\"\n",
    "        if not pkl_path.exists():\n",
    "            with gzip.open(gz_path, 'rb') as f_in:\n",
    "                with open(pkl_path, 'wb') as f_out:\n",
    "                    shutil.copyfileobj(f_in, f_out)\n",
    "        with open(pkl_path, 'rb') as file:\n",
    "            mnist_data = pickle.load(file, encoding=\"latin1\")\n",
    "        self.indep = torch.tensor(mnist_data[1 if test else 0][0], device=device)\n",
    "        self.dep = torch.tensor(mnist_data[1 if test else 0][1], device=device)\n",
    "\n",
    "    def __len__(self):\n",
    "        return len(self.indep)\n",
    "\n",
    "    def __getitem__(self, i):\n",
    "        return self.indep[i], self.dep[i]\n",
    "\n",
    "    def show(self, i, ax=None):\n",
    "        if ax is None: _, ax = plt.subplots()\n",
    "        indep, dep = self[i]\n",
    "        ax.imshow(indep.view(28, 28).cpu(), cmap='grey')\n",
    "        ax.set_title(dep.item())\n",
    "        ax.xaxis.set_ticks([])\n",
    "        ax.yaxis.set_ticks([])"
   ]
  },
  {
   "cell_type": "code",
   "execution_count": 41,
   "id": "ef12055e-6007-4b93-9858-8d2719f5ac48",
   "metadata": {},
   "outputs": [
    {
     "data": {
      "text/plain": [
       "(torch.Size([784]),\n",
       " torch.Size([]),\n",
       " torch.Size([784]),\n",
       " tensor(3, device='cuda:0'))"
      ]
     },
     "execution_count": 41,
     "metadata": {},
     "output_type": "execute_result"
    }
   ],
   "source": [
    "train_ds = MNISTDataset()\n",
    "val_ds = MNISTDataset(test=True)\n",
    "\n",
    "train_ds[0][0].shape, train_ds[0][1].shape, val_ds[0][0].shape, val_ds[0][1]"
   ]
  },
  {
   "cell_type": "code",
   "execution_count": 42,
   "id": "f821187a-7422-4a15-8343-964ffc3c5595",
   "metadata": {},
   "outputs": [
    {
     "data": {
      "text/plain": [
       "(None, None)"
      ]
     },
     "execution_count": 42,
     "metadata": {},
     "output_type": "execute_result"
    },
    {
     "data": {
      "image/png": "[encoded data removed]",
      "text/plain": [
       "<Figure size 640x480 with 2 Axes>"
      ]
     },
     "metadata": {},
     "output_type": "display_data"
    }
   ],
   "source": [
    "_, ax = plt.subplots(1, 2)\n",
    "train_ds.show(0, ax[0]), val_ds.show(0, ax[1])"
   ]
  },
  {
   "cell_type": "markdown",
   "id": "587c81a9-4a41-44b0-a6bc-54ad080f0c67",
   "metadata": {},
   "source": [
    "## Data Loaders"
   ]
  },
  {
   "cell_type": "code",
   "execution_count": 43,
   "id": "b0a70e29-d749-4913-a871-97fd32ea073d",
   "metadata": {},
   "outputs": [],
   "source": [
    "import math\n",
    "\n",
    "class DataLoader():\n",
    "    def __init__(self, dataset, bs=64, shuffle=False, device=device):\n",
    "        self.dataset = dataset\n",
    "        self.batch_size = bs\n",
    "        self.shuffle = shuffle\n",
    "        self.current_index = 0\n",
    "        self.indices = np.arange(len(dataset))\n",
    "        self.device = device\n",
    "\n",
    "    def __iter__(self):\n",
    "        self.current_index = 0\n",
    "        if self.shuffle: np.random.shuffle(self.indices)\n",
    "        return self\n",
    "    \n",
    "    def __next__(self):\n",
    "        start_index = self.current_index\n",
    "        if start_index >= len(self.dataset): raise StopIteration\n",
    "        end_index = min(start_index + self.batch_size, len(self.dataset))\n",
    "        self.current_index = end_index\n",
    "        batch = self.dataset[self.indices[start_index:end_index]]\n",
    "        return batch[0].to(device), batch[1].to(device)\n",
    "        \n",
    "    def __getitem__(self, i):\n",
    "        start_index = i * self.batch_size\n",
    "        if start_index >= len(self.dataset): raise Error(\"dataset out of bounds\")\n",
    "        end_index = min(start_index + self.batch_size, len(self.dataset))\n",
    "        batch = self.dataset[self.indices[start_index:end_index]]\n",
    "        return batch[0].to(device), batch[1].to(device)\n",
    "\n",
    "    def show(self, n=16):\n",
    "        cols = 4\n",
    "        rows = math.ceil(n/cols)\n",
    "        _, ax = plt.subplots(rows, cols, figsize=(10,5))\n",
    "        for i in self.indices[:n]:\n",
    "            self.dataset.show(i, ax[i//cols][i%cols])\n",
    "            "
   ]
  },
  {
   "cell_type": "code",
   "execution_count": 44,
   "id": "a91672f4-a443-4051-97dd-88981198e897",
   "metadata": {},
   "outputs": [
    {
     "data": {
      "text/plain": [
       "(torch.Size([1024, 784]), torch.Size([1024]))"
      ]
     },
     "execution_count": 44,
     "metadata": {},
     "output_type": "execute_result"
    }
   ],
   "source": [
    "train_dl = DataLoader(train_ds, bs=1024, shuffle=True)\n",
    "val_dl = DataLoader(val_ds, bs=64)\n",
    "xb, yb = train_dl[0]\n",
    "xb.shape, yb.shape"
   ]
  },
  {
   "cell_type": "code",
   "execution_count": 45,
   "id": "1242a59f-03c0-4768-838c-ac96068a1207",
   "metadata": {},
   "outputs": [
    {
     "data": {
      "image/png": "[encoded data removed]",
      "text/plain": [
       "<Figure size 1000x500 with 8 Axes>"
      ]
     },
     "metadata": {},
     "output_type": "display_data"
    }
   ],
   "source": [
    "train_dl.show(8)"
   ]
  },
  {
   "cell_type": "markdown",
   "id": "a81f6bdc-52d8-467a-8a5c-dfd78ff1d493",
   "metadata": {},
   "source": [
    "## Training loop with DL"
   ]
  },
  {
   "cell_type": "code",
   "execution_count": 46,
   "id": "3208a082-4c8b-4435-ac1c-d7d0f9205ff4",
   "metadata": {},
   "outputs": [],
   "source": [
    "def ce_loss2(preds, targets):\n",
    "    # pdb.set_trace()\n",
    "    targets_oh = F.one_hot(targets, 10)\n",
    "    return (-targets_oh*preds.log()).sum(1)"
   ]
  },
  {
   "cell_type": "code",
   "execution_count": 47,
   "id": "a98383e7-6c99-49e3-8376-3e14820d4aec",
   "metadata": {},
   "outputs": [
    {
     "data": {
      "text/plain": [
       "tensor([1.4287, 1.2575, 0.3973, 0.4307, 0.1691, 1.7252, 1.3746, 0.4546, 0.4836, 1.2703, 1.3048, 0.8459, 1.0793, 0.2916, 2.2175, 0.0421,\n",
       "        0.9361, 1.5482, 0.8416, 0.3169, 1.3357, 2.0081, 2.6157, 1.7166, 1.5025, 6.1137, 1.1619, 2.1986, 0.6656, 1.3682, 0.2926, 2.5997,\n",
       "        0.6617, 0.9071, 0.9643, 0.5970, 0.8351, 0.2553, 0.1637, 1.7610, 0.0973, 0.6883, 0.3975, 0.7412, 0.0681, 0.3681, 0.3261, 1.9145,\n",
       "        0.1354, 0.5525, 0.0315, 1.7082, 0.1292, 0.3377, 0.1781, 0.7422, 0.4449, 2.5627, 0.1788, 1.0423, 0.2919, 1.8502, 1.3646, 0.7277])"
      ]
     },
     "execution_count": 47,
     "metadata": {},
     "output_type": "execute_result"
    }
   ],
   "source": [
    "ce_loss2(torch.rand(64, 10), torch.randint(0, 10, (64,)))"
   ]
  },
  {
   "cell_type": "code",
   "execution_count": 48,
   "id": "7c94af77-4fa5-49aa-91fd-d0c13056c6f6",
   "metadata": {},
   "outputs": [
    {
     "name": "stdout",
     "output_type": "stream",
     "text": [
      "Epoch: 1 | Time: 0.06s | Loss: 1.24 | Accuracy: 0.60 | Allocated memory: 353.54 Mb | Cached memory: 372.00 Mb\n",
      "Epoch: 2 | Time: 0.05s | Loss: 1.08 | Accuracy: 0.63 | Allocated memory: 354.07 Mb | Cached memory: 372.00 Mb\n",
      "Epoch: 3 | Time: 0.05s | Loss: 1.01 | Accuracy: 0.67 | Allocated memory: 353.54 Mb | Cached memory: 372.00 Mb\n",
      "Epoch: 4 | Time: 0.05s | Loss: 1.10 | Accuracy: 0.62 | Allocated memory: 354.07 Mb | Cached memory: 372.00 Mb\n",
      "Epoch: 5 | Time: 0.06s | Loss: 1.06 | Accuracy: 0.66 | Allocated memory: 353.54 Mb | Cached memory: 372.00 Mb\n"
     ]
    },
    {
     "data": {
      "text/plain": [
       "Text(0.5, 1.0, 'GPU Cache (Reserved) Memory')"
      ]
     },
     "execution_count": 48,
     "metadata": {},
     "output_type": "execute_result"
    },
    {
     "data": {
      "image/png": "[encoded data removed]",
      "text/plain": [
       "<Figure size 800x100 with 2 Axes>"
      ]
     },
     "metadata": {},
     "output_type": "display_data"
    }
   ],
   "source": [
    "import time\n",
    "import pdb\n",
    "\n",
    "epoch = 5\n",
    "lr = 0.01\n",
    "bs = 1024\n",
    "writer = SummaryWriter('runs/experiment_3')\n",
    "gpu_alloc = []\n",
    "gpu_res = []\n",
    "\n",
    "\n",
    "for e in range(epoch):\n",
    "    epoch_loss = 0\n",
    "    start_time = time.time()\n",
    "    \n",
    "    model.train()\n",
    "    for xb, yb in train_dl:\n",
    "        preds = model.forward(xb)\n",
    "        loss = ce_loss2(preds, yb).mean()\n",
    "        loss.backward()\n",
    "\n",
    "        epoch_loss += loss\n",
    "\n",
    "        gpu_alloc.append(torch.cuda.memory_allocated() / 1024**2)\n",
    "        gpu_res.append(torch.cuda.memory_reserved() / 1024**2)\n",
    "        \n",
    "        with torch.no_grad():\n",
    "            model.weights -= lr*model.weights.grad\n",
    "            model.weights.grad.zero_()\n",
    "            model.biases -= lr*model.biases.grad\n",
    "            model.biases.grad.zero_()\n",
    "        \n",
    "    model.eval()\n",
    "    accuracy = (model.forward(xb).max(1).indices == yb).float().mean().item()\n",
    "    alloc_mem = torch.cuda.memory_allocated() / 1024**2\n",
    "    gpu_alloc.append(alloc_mem)\n",
    "    res_mem = torch.cuda.memory_reserved() / 1024**2\n",
    "    gpu_res.append(res_mem)\n",
    "    end_time = time.time()\n",
    "    dur = end_time - start_time\n",
    "    print(f'Epoch: {e+1} | Time: {dur:.2f}s | Loss: {loss:.2f} | Accuracy: {accuracy:.2f} | Allocated memory: {alloc_mem:.2f} Mb | Cached memory: {res_mem:.2f} Mb')\n",
    "    writer.add_scalar('Loss/train', loss, e+1)\n",
    "    writer.add_scalar('Accuracy/train', accuracy, e+1)        \n",
    "    writer.add_scalar('GPU/Allocated Memory', alloc_mem, epoch)\n",
    "    writer.add_scalar('GPU/Cached Memory', res_mem, epoch)\n",
    "    writer.add_scalar('Duration', dur, epoch)\n",
    "    \n",
    "writer.close()\n",
    "fig, ax = plt.subplots(1, 2, figsize=(8,1))\n",
    "ax[0].plot(torch.arange(len(gpu_alloc)), gpu_alloc)\n",
    "ax[0].set_title(\"GPU Allocated Memory\")\n",
    "\n",
    "ax[1].plot(torch.arange(len(gpu_res)), gpu_res)\n",
    "ax[1].set_title(\"GPU Cache (Reserved) Memory\")"
   ]
  },
  {
   "cell_type": "markdown",
   "id": "39a488c0-220b-4dbc-9ce2-46f67c27ff20",
   "metadata": {
    "jp-MarkdownHeadingCollapsed": true
   },
   "source": [
    "# Iteration 4: Validation sets"
   ]
  },
  {
   "cell_type": "code",
   "execution_count": 49,
   "id": "fbf45e4f-8860-4ab0-9381-014551a647db",
   "metadata": {},
   "outputs": [],
   "source": [
    "class DataLoaders():\n",
    "    def __init__(self, train_dataset, test_dataset, bs=64, shuffle=False, device=device):\n",
    "        self.train = DataLoader(train_dataset, bs=bs, shuffle=shuffle, device=device)\n",
    "        self.test = DataLoader(test_dataset, bs=bs, shuffle=False, device=device)\n",
    "\n",
    "    def __iter__(self):\n",
    "        self.train_iter = iter(self.train)\n",
    "        return self.train_iter\n",
    "    \n",
    "    def __next__(self):\n",
    "        return next(self.train_iter)\n",
    "        \n",
    "    def __getitem__(self, i):\n",
    "        return self.train.__getitem__(i)\n",
    "\n",
    "    def show(self, n=16):\n",
    "        self.train.show(n)"
   ]
  },
  {
   "cell_type": "code",
   "execution_count": 50,
   "id": "d50c8bfd-af58-4d9f-83db-1d73ee869930",
   "metadata": {},
   "outputs": [
    {
     "data": {
      "image/png": "[encoded data removed]",
      "text/plain": [
       "<Figure size 1000x500 with 8 Axes>"
      ]
     },
     "metadata": {},
     "output_type": "display_data"
    }
   ],
   "source": [
    "dls = DataLoaders(train_ds, val_ds, bs=1024, shuffle=True, device=device)\n",
    "dls.show(8)"
   ]
  },
  {
   "cell_type": "code",
   "execution_count": 51,
   "id": "20832e9b-87ea-4ac3-a328-b2f07cbdca48",
   "metadata": {},
   "outputs": [
    {
     "name": "stdout",
     "output_type": "stream",
     "text": [
      "Epoch: 1 | Time: 0.05s | Loss: 0.80 | Valid loss: 0.72 | Accuracy: 0.77 | Allocated memory: 354.45 Mb | Cached memory: 374.00 Mb\n",
      "Epoch: 2 | Time: 0.05s | Loss: 0.72 | Valid loss: 0.62 | Accuracy: 0.81 | Allocated memory: 353.93 Mb | Cached memory: 374.00 Mb\n",
      "Epoch: 3 | Time: 0.05s | Loss: 0.65 | Valid loss: 0.56 | Accuracy: 0.83 | Allocated memory: 354.45 Mb | Cached memory: 374.00 Mb\n",
      "Epoch: 4 | Time: 0.05s | Loss: 0.62 | Valid loss: 0.52 | Accuracy: 0.84 | Allocated memory: 353.93 Mb | Cached memory: 374.00 Mb\n",
      "Epoch: 5 | Time: 0.05s | Loss: 0.57 | Valid loss: 0.49 | Accuracy: 0.85 | Allocated memory: 354.45 Mb | Cached memory: 376.00 Mb\n",
      "Epoch: 6 | Time: 0.05s | Loss: 0.56 | Valid loss: 0.47 | Accuracy: 0.86 | Allocated memory: 353.93 Mb | Cached memory: 376.00 Mb\n",
      "Epoch: 7 | Time: 0.05s | Loss: 0.51 | Valid loss: 0.45 | Accuracy: 0.86 | Allocated memory: 354.45 Mb | Cached memory: 376.00 Mb\n",
      "Epoch: 8 | Time: 0.05s | Loss: 0.46 | Valid loss: 0.44 | Accuracy: 0.87 | Allocated memory: 353.93 Mb | Cached memory: 376.00 Mb\n",
      "Epoch: 9 | Time: 0.05s | Loss: 0.52 | Valid loss: 0.43 | Accuracy: 0.87 | Allocated memory: 354.45 Mb | Cached memory: 376.00 Mb\n",
      "Epoch: 10 | Time: 0.05s | Loss: 0.45 | Valid loss: 0.42 | Accuracy: 0.88 | Allocated memory: 353.93 Mb | Cached memory: 376.00 Mb\n"
     ]
    },
    {
     "data": {
      "text/plain": [
       "Text(0.5, 1.0, 'GPU Cache (Reserved) Memory')"
      ]
     },
     "execution_count": 51,
     "metadata": {},
     "output_type": "execute_result"
    },
    {
     "data": {
      "image/png": "[encoded data removed]",
      "text/plain": [
       "<Figure size 800x100 with 2 Axes>"
      ]
     },
     "metadata": {},
     "output_type": "display_data"
    }
   ],
   "source": [
    "import time\n",
    "import pdb\n",
    "\n",
    "epoch = 10\n",
    "lr = 0.1\n",
    "writer = SummaryWriter('runs/experiment_3')\n",
    "gpu_alloc = []\n",
    "gpu_res = []\n",
    "\n",
    "\n",
    "for e in range(epoch):\n",
    "    epoch_loss = 0\n",
    "    start_time = time.time()\n",
    "    \n",
    "    model.train()\n",
    "    for xb, yb in dls:\n",
    "        preds = model.forward(xb)\n",
    "        loss = ce_loss2(preds, yb).mean()\n",
    "        loss.backward()\n",
    "\n",
    "        epoch_loss += loss\n",
    "\n",
    "        gpu_alloc.append(torch.cuda.memory_allocated() / 1024**2)\n",
    "        gpu_res.append(torch.cuda.memory_reserved() / 1024**2)\n",
    "        \n",
    "        with torch.no_grad():\n",
    "            model.weights -= lr*model.weights.grad\n",
    "            model.weights.grad.zero_()\n",
    "            model.biases -= lr*model.biases.grad\n",
    "            model.biases.grad.zero_()\n",
    "        \n",
    "    model.eval()\n",
    "    \n",
    "    val_x, val_y = dls.test.dataset[:]\n",
    "    val_preds = model.forward(val_x)\n",
    "    val_loss = ce_loss2(val_preds, val_y).mean()\n",
    "    accuracy = (val_preds.max(1).indices == val_y).float().mean().item()\n",
    "    \n",
    "    alloc_mem = torch.cuda.memory_allocated() / 1024**2\n",
    "    res_mem = torch.cuda.memory_reserved() / 1024**2\n",
    "    \n",
    "    end_time = time.time()\n",
    "    dur = end_time - start_time\n",
    "    \n",
    "    print(f'Epoch: {e+1} | Time: {dur:.2f}s | Loss: {loss:.2f} | Valid loss: {val_loss:.2f} | Accuracy: {accuracy:.2f} | Allocated memory: {alloc_mem:.2f} Mb | Cached memory: {res_mem:.2f} Mb')\n",
    "    \n",
    "    writer.add_scalar('Loss/train', loss, e+1)\n",
    "    writer.add_scalar('Accuracy/train', accuracy, e+1)        \n",
    "    writer.add_scalar('GPU/Allocated Memory', alloc_mem, epoch)\n",
    "    writer.add_scalar('GPU/Cached Memory', res_mem, epoch)\n",
    "    writer.add_scalar('Duration', dur, epoch)\n",
    "    \n",
    "writer.close()\n",
    "fig, ax = plt.subplots(1, 2, figsize=(8,1))\n",
    "ax[0].plot(torch.arange(len(gpu_alloc)), gpu_alloc)\n",
    "ax[0].set_title(\"GPU Allocated Memory\")\n",
    "\n",
    "ax[1].plot(torch.arange(len(gpu_res)), gpu_res)\n",
    "ax[1].set_title(\"GPU Cache (Reserved) Memory\")"
   ]
  },
  {
   "cell_type": "markdown",
   "id": "cb2b12c2-281c-48d2-b23a-aa559f56ff5b",
   "metadata": {
    "jp-MarkdownHeadingCollapsed": true
   },
   "source": [
    "# Iteration 5: Optimisers"
   ]
  },
  {
   "cell_type": "code",
   "execution_count": 52,
   "id": "f6f8204e-d660-4c58-8a1d-d86225971195",
   "metadata": {},
   "outputs": [],
   "source": [
    "class SGDOptimiser():\n",
    "    def __init__(self, model, lr):\n",
    "        self.model = model\n",
    "        self.lr = lr\n",
    "\n",
    "    def step(self):\n",
    "        with torch.no_grad():\n",
    "            self.model.weights -= self.model.weights.grad*self.lr\n",
    "            self.model.biases -= self.model.biases.grad*self.lr\n",
    "\n",
    "    def zero(self):\n",
    "        with torch.no_grad():\n",
    "            self.model.weights.grad.zero_()\n",
    "            self.model.biases.grad.zero_()"
   ]
  },
  {
   "cell_type": "code",
   "execution_count": 53,
   "id": "573799ad-553b-4e5f-ae31-5d4ccddec237",
   "metadata": {},
   "outputs": [
    {
     "name": "stdout",
     "output_type": "stream",
     "text": [
      "Epoch: 1 | Time: 0.06s | Train Loss: 0.45 | Valid loss: 0.41 | Accuracy: 0.88 | Allocated memory: 354.45 Mb | Cached memory: 376.00 Mb\n",
      "Epoch: 2 | Time: 0.06s | Train Loss: 0.44 | Valid loss: 0.40 | Accuracy: 0.88 | Allocated memory: 353.93 Mb | Cached memory: 376.00 Mb\n",
      "Epoch: 3 | Time: 0.06s | Train Loss: 0.41 | Valid loss: 0.40 | Accuracy: 0.88 | Allocated memory: 354.45 Mb | Cached memory: 376.00 Mb\n",
      "Epoch: 4 | Time: 0.06s | Train Loss: 0.42 | Valid loss: 0.39 | Accuracy: 0.89 | Allocated memory: 353.93 Mb | Cached memory: 376.00 Mb\n",
      "Epoch: 5 | Time: 0.06s | Train Loss: 0.44 | Valid loss: 0.38 | Accuracy: 0.89 | Allocated memory: 354.45 Mb | Cached memory: 376.00 Mb\n",
      "Epoch: 6 | Time: 0.05s | Train Loss: 0.41 | Valid loss: 0.38 | Accuracy: 0.89 | Allocated memory: 353.93 Mb | Cached memory: 376.00 Mb\n",
      "Epoch: 7 | Time: 0.05s | Train Loss: 0.40 | Valid loss: 0.38 | Accuracy: 0.89 | Allocated memory: 354.45 Mb | Cached memory: 376.00 Mb\n",
      "Epoch: 8 | Time: 0.06s | Train Loss: 0.39 | Valid loss: 0.37 | Accuracy: 0.89 | Allocated memory: 353.93 Mb | Cached memory: 376.00 Mb\n",
      "Epoch: 9 | Time: 0.06s | Train Loss: 0.41 | Valid loss: 0.37 | Accuracy: 0.89 | Allocated memory: 354.45 Mb | Cached memory: 376.00 Mb\n",
      "Epoch: 10 | Time: 0.05s | Train Loss: 0.35 | Valid loss: 0.36 | Accuracy: 0.90 | Allocated memory: 353.93 Mb | Cached memory: 376.00 Mb\n"
     ]
    },
    {
     "data": {
      "text/plain": [
       "Text(0.5, 1.0, 'GPU Cache (Reserved) Memory')"
      ]
     },
     "execution_count": 53,
     "metadata": {},
     "output_type": "execute_result"
    },
    {
     "data": {
      "image/png": "[encoded data removed]",
      "text/plain": [
       "<Figure size 800x100 with 2 Axes>"
      ]
     },
     "metadata": {},
     "output_type": "display_data"
    }
   ],
   "source": [
    "import time\n",
    "import pdb\n",
    "\n",
    "epoch = 10\n",
    "lr = 0.1\n",
    "writer = SummaryWriter('runs/experiment_3')\n",
    "gpu_alloc = []\n",
    "gpu_res = []\n",
    "sgd_optim = SGDOptimiser(model, lr)\n",
    "\n",
    "for e in range(epoch):\n",
    "    epoch_loss = 0\n",
    "    start_time = time.time()\n",
    "    \n",
    "    model.train()\n",
    "    for xb, yb in dls:\n",
    "        preds = model.forward(xb)\n",
    "        loss = ce_loss2(preds, yb).mean()\n",
    "        loss.backward()\n",
    "\n",
    "        epoch_loss += loss\n",
    "\n",
    "        gpu_alloc.append(torch.cuda.memory_allocated() / 1024**2)\n",
    "        gpu_res.append(torch.cuda.memory_reserved() / 1024**2)\n",
    "        \n",
    "        sgd_optim.step()\n",
    "        sgd_optim.zero()\n",
    "        \n",
    "    model.eval()\n",
    "    \n",
    "    val_x, val_y = dls.test.dataset[:]\n",
    "    val_preds = model.forward(val_x)\n",
    "    val_loss = ce_loss2(val_preds, val_y).mean()\n",
    "    accuracy = (val_preds.max(1).indices == val_y).float().mean().item()\n",
    "    \n",
    "    alloc_mem = torch.cuda.memory_allocated() / 1024**2\n",
    "    res_mem = torch.cuda.memory_reserved() / 1024**2\n",
    "    \n",
    "    end_time = time.time()\n",
    "    dur = end_time - start_time\n",
    "    \n",
    "    print(f'Epoch: {e+1} | Time: {dur:.2f}s | Train Loss: {loss:.2f} | Valid loss: {val_loss:.2f} | Accuracy: {accuracy:.2f} | Allocated memory: {alloc_mem:.2f} Mb | Cached memory: {res_mem:.2f} Mb')\n",
    "    \n",
    "    writer.add_scalar('Loss/train', loss, e+1)\n",
    "    writer.add_scalar('Accuracy/train', accuracy, e+1)        \n",
    "    writer.add_scalar('GPU/Allocated Memory', alloc_mem, epoch)\n",
    "    writer.add_scalar('GPU/Cached Memory', res_mem, epoch)\n",
    "    writer.add_scalar('Duration', dur, epoch)\n",
    "    \n",
    "writer.close()\n",
    "fig, ax = plt.subplots(1, 2, figsize=(8,1))\n",
    "ax[0].plot(torch.arange(len(gpu_alloc)), gpu_alloc)\n",
    "ax[0].set_title(\"GPU Allocated Memory\")\n",
    "\n",
    "ax[1].plot(torch.arange(len(gpu_res)), gpu_res)\n",
    "ax[1].set_title(\"GPU Cache (Reserved) Memory\")"
   ]
  },
  {
   "cell_type": "markdown",
   "id": "5a7d4a87-4532-4e6a-991d-d40e2c1235e8",
   "metadata": {
    "jp-MarkdownHeadingCollapsed": true
   },
   "source": [
    "# Iteration 6: Learner and Callbacks"
   ]
  },
  {
   "cell_type": "code",
   "execution_count": 54,
   "id": "3a2af914-49b5-45f7-90b5-9ff3f89840b1",
   "metadata": {},
   "outputs": [],
   "source": [
    "class Learner():\n",
    "    def __init__(self, model, optim, loss_fn, dls):\n",
    "        self.model = model\n",
    "        self.optim = optim\n",
    "        self.loss_fn = loss_fn\n",
    "        self.dls = dls\n",
    "        \n",
    "    def fit(self, epoch):\n",
    "        gpu_alloc = []\n",
    "        gpu_res = []\n",
    "        \n",
    "        for e in range(epoch):\n",
    "            epoch_loss = 0\n",
    "            start_time = time.time()\n",
    "            \n",
    "            self.model.train()\n",
    "            for xb, yb in self.dls:\n",
    "                preds = self.model.forward(xb)\n",
    "                loss = self.loss_fn(preds, yb).mean()\n",
    "                loss.backward()\n",
    "        \n",
    "                epoch_loss += loss\n",
    "        \n",
    "                gpu_alloc.append(torch.cuda.memory_allocated() / 1024**2)\n",
    "                gpu_res.append(torch.cuda.memory_reserved() / 1024**2)\n",
    "                \n",
    "                self.optim.step()\n",
    "                self.optim.zero()\n",
    "                \n",
    "            self.model.eval()\n",
    "            \n",
    "            val_x, val_y = self.dls.test.dataset[:]\n",
    "            val_preds = self.model.forward(val_x)\n",
    "            val_loss = self.loss_fn(val_preds, val_y).mean()\n",
    "            accuracy = (val_preds.max(1).indices == val_y).float().mean().item()\n",
    "            \n",
    "            alloc_mem = torch.cuda.memory_allocated() / 1024**2\n",
    "            res_mem = torch.cuda.memory_reserved() / 1024**2\n",
    "            \n",
    "            end_time = time.time()\n",
    "            dur = end_time - start_time\n",
    "            \n",
    "            print(f'Epoch: {e+1} | Time: {dur:.2f}s | Train Loss: {loss:.2f} | Valid loss: {val_loss:.2f} | Accuracy: {accuracy:.2f} | Allocated memory: {alloc_mem:.2f} Mb | Cached memory: {res_mem:.2f} Mb')\n",
    "            \n",
    "        fig, ax = plt.subplots(1, 2, figsize=(8,1))\n",
    "        ax[0].plot(torch.arange(len(gpu_alloc)), gpu_alloc)\n",
    "        ax[0].set_title(\"GPU Allocated Memory\")\n",
    "        \n",
    "        ax[1].plot(torch.arange(len(gpu_res)), gpu_res)\n",
    "        ax[1].set_title(\"GPU Cache (Reserved) Memory\")"
   ]
  },
  {
   "cell_type": "code",
   "execution_count": 55,
   "id": "896505e1-1bf2-43c4-bd62-fa187671bd34",
   "metadata": {},
   "outputs": [
    {
     "name": "stdout",
     "output_type": "stream",
     "text": [
      "Epoch: 1 | Time: 0.06s | Train Loss: 0.35 | Valid loss: 0.36 | Accuracy: 0.90 | Allocated memory: 357.41 Mb | Cached memory: 376.00 Mb\n",
      "Epoch: 2 | Time: 0.06s | Train Loss: 0.41 | Valid loss: 0.36 | Accuracy: 0.90 | Allocated memory: 356.88 Mb | Cached memory: 376.00 Mb\n",
      "Epoch: 3 | Time: 0.06s | Train Loss: 0.40 | Valid loss: 0.35 | Accuracy: 0.90 | Allocated memory: 357.41 Mb | Cached memory: 376.00 Mb\n",
      "Epoch: 4 | Time: 0.05s | Train Loss: 0.37 | Valid loss: 0.35 | Accuracy: 0.90 | Allocated memory: 356.88 Mb | Cached memory: 376.00 Mb\n",
      "Epoch: 5 | Time: 0.06s | Train Loss: 0.32 | Valid loss: 0.35 | Accuracy: 0.90 | Allocated memory: 357.41 Mb | Cached memory: 376.00 Mb\n"
     ]
    },
    {
     "data": {
      "image/png": "[encoded data removed]",
      "text/plain": [
       "<Figure size 800x100 with 2 Axes>"
      ]
     },
     "metadata": {},
     "output_type": "display_data"
    }
   ],
   "source": [
    "learner = Learner(model=model, optim=sgd_optim, loss_fn=ce_loss2, dls=dls)\n",
    "learner.fit(5)"
   ]
  },
  {
   "cell_type": "markdown",
   "id": "5f41c979-3be8-4be1-ac74-f05016ff7f20",
   "metadata": {},
   "source": [
    "## Callbacks"
   ]
  },
  {
   "cell_type": "code",
   "execution_count": 56,
   "id": "16ed2d91-1b9a-47cb-a7dc-7c4bc60a8706",
   "metadata": {},
   "outputs": [],
   "source": [
    "class Learner_2():\n",
    "    def __init__(self, model, optim, loss_fn, dls, cbs):\n",
    "        self.model = model\n",
    "        self.optim = optim\n",
    "        self.loss_fn = loss_fn\n",
    "        self.dls = dls\n",
    "        self.cbs = cbs\n",
    "        self.epoch = None\n",
    "        self.current_epoch = None\n",
    "        self.current_batch = None\n",
    "        self.epoch_loss = None\n",
    "        self.batch_loss = None\n",
    "        self.val_loss = None\n",
    "\n",
    "    def _cb(self, cb_name):\n",
    "        for cb in self.cbs:\n",
    "            cb_fn = getattr(cb, cb_name, None)\n",
    "            if cb_fn is not None: cb_fn(self)\n",
    "        \n",
    "    def fit(self, epoch):\n",
    "        self.epoch = epoch\n",
    "        self._cb(\"before_fit\")\n",
    "        \n",
    "        for self.current_epoch in range(epoch):\n",
    "            self._cb(\"before_epoch\")\n",
    "            self.epoch_loss = 0\n",
    "            \n",
    "            self.model.train()\n",
    "            for xb, yb in self.dls:\n",
    "                self.current_batch = (xb, yb)\n",
    "                self._cb(\"before_batch\")\n",
    "                preds = self.model.forward(xb)\n",
    "                self.batch_loss = self.loss_fn(preds, yb).mean()\n",
    "                self.batch_loss.backward()\n",
    "        \n",
    "                self.epoch_loss += loss\n",
    "                \n",
    "                self.optim.step()\n",
    "                self.optim.zero()\n",
    "                self._cb(\"after_batch\")\n",
    "            \n",
    "            self.model.eval()\n",
    "            \n",
    "            val_x, val_y = self.dls.test.dataset[:]\n",
    "            val_preds = self.model.forward(val_x)\n",
    "            self.val_loss = self.loss_fn(val_preds, val_y).mean()\n",
    "            accuracy = (val_preds.max(1).indices == val_y).float().mean().item()\n",
    "            self._cb(\"after_epoch\")\n",
    "        self._cb(\"after_fit\")"
   ]
  },
  {
   "cell_type": "code",
   "execution_count": 57,
   "id": "62b87abb-c209-462e-92df-afcd0688a7b6",
   "metadata": {},
   "outputs": [],
   "source": [
    "class GPUStatsCb:\n",
    "    alloc_mem = []\n",
    "    cache_mem = []\n",
    "\n",
    "    def after_batch(self, learner):\n",
    "        self.alloc_mem.append(torch.cuda.memory_allocated() / 1024**2)\n",
    "        self.cache_mem.append(torch.cuda.memory_reserved() / 1024**2)\n",
    "\n",
    "    def after_fit(self, learner):\n",
    "        fig, ax = plt.subplots(1, 2, figsize=(8,1))\n",
    "        ax[0].plot(torch.arange(len(gpu_alloc)), gpu_alloc)\n",
    "        ax[0].set_title(\"GPU Allocated Memory\")\n",
    "        ax[1].plot(torch.arange(len(gpu_res)), gpu_res)\n",
    "        ax[1].set_title(\"GPU Cache (Reserved) Memory\")"
   ]
  },
  {
   "cell_type": "code",
   "execution_count": 58,
   "id": "ad66b7ac-827a-4471-81f3-795425b18542",
   "metadata": {},
   "outputs": [],
   "source": [
    "class ProgressCb:\n",
    "    start_time\n",
    "    end_time\n",
    "    \n",
    "    def __init__(self, gpu_stats):\n",
    "        self.gpu = gpu_stats\n",
    "\n",
    "    def before_epoch(self, learner):\n",
    "        self.start_time = time.time()\n",
    "\n",
    "    def after_epoch(self, learner):\n",
    "        self.end_time = time.time()\n",
    "        dur = self.end_time - self.start_time\n",
    "        print(f'Epoch: {learner.current_epoch+1} | Time: {dur:.2f}s | Train Loss: {learner.epoch_loss:.2f} | Valid loss: {learner.val_loss:.2f} | Allocated memory: {self.gpu.alloc_mem[-1]:.2f} Mb | Cached memory: {self.gpu.cache_mem[-1]:.2f} Mb')"
   ]
  },
  {
   "cell_type": "code",
   "execution_count": 59,
   "id": "3bb755b2-a24e-4f89-8041-a24ec4f88ae2",
   "metadata": {},
   "outputs": [
    {
     "name": "stdout",
     "output_type": "stream",
     "text": [
      "Epoch: 1 | Time: 0.06s | Train Loss: 17.24 | Valid loss: 0.35 | Allocated memory: 357.03 Mb | Cached memory: 376.00 Mb\n",
      "Epoch: 2 | Time: 0.06s | Train Loss: 17.24 | Valid loss: 0.35 | Allocated memory: 356.88 Mb | Cached memory: 376.00 Mb\n",
      "Epoch: 3 | Time: 0.05s | Train Loss: 17.24 | Valid loss: 0.34 | Allocated memory: 357.41 Mb | Cached memory: 376.00 Mb\n",
      "Epoch: 4 | Time: 0.06s | Train Loss: 17.24 | Valid loss: 0.34 | Allocated memory: 356.88 Mb | Cached memory: 376.00 Mb\n",
      "Epoch: 5 | Time: 0.06s | Train Loss: 17.24 | Valid loss: 0.34 | Allocated memory: 357.41 Mb | Cached memory: 376.00 Mb\n"
     ]
    },
    {
     "data": {
      "image/png": "[encoded data removed]",
      "text/plain": [
       "<Figure size 800x100 with 2 Axes>"
      ]
     },
     "metadata": {},
     "output_type": "display_data"
    }
   ],
   "source": [
    "gpu_stats_cb = GPUStatsCb()\n",
    "learner_2 = Learner_2(model=model, optim=sgd_optim, dls=dls, loss_fn=ce_loss2, cbs=[gpu_stats_cb, ProgressCb(gpu_stats_cb)])\n",
    "learner_2.fit(5)"
   ]
  },
  {
   "cell_type": "markdown",
   "id": "9379fd69-c494-4183-9891-c5142d121bf0",
   "metadata": {
    "jp-MarkdownHeadingCollapsed": true
   },
   "source": [
    "# Iteration 7: Metrics Cb"
   ]
  },
  {
   "cell_type": "code",
   "execution_count": 60,
   "id": "bc02524c-ff3e-4e6a-989b-16f2df3edbc9",
   "metadata": {},
   "outputs": [],
   "source": [
    "class Learner_3():\n",
    "    def __init__(self, model, optim, loss_fn, dls, cbs):\n",
    "        self.model = model\n",
    "        self.optim = optim\n",
    "        self.loss_fn = loss_fn\n",
    "        self.dls = dls\n",
    "        self.cbs = cbs\n",
    "        self.epoch = None\n",
    "        self.current_epoch = None\n",
    "        self.current_batch = None\n",
    "        self.epoch_loss = None\n",
    "        self.batch_loss = None\n",
    "        self.val_loss = None\n",
    "        self.val_preds = None\n",
    "\n",
    "    def _cb(self, cb_name):\n",
    "        for cb in self.cbs:\n",
    "            cb_fn = getattr(cb, cb_name, None)\n",
    "            if cb_fn is not None: cb_fn(self)\n",
    "        \n",
    "    def fit(self, epoch):\n",
    "        self.epoch = epoch\n",
    "        self._cb(\"before_fit\")\n",
    "        \n",
    "        for self.current_epoch in range(epoch):\n",
    "            self._cb(\"before_epoch\")\n",
    "            self.epoch_loss = 0\n",
    "            \n",
    "            self.model.train()\n",
    "            for xb, yb in self.dls:\n",
    "                self.current_batch = (xb, yb)\n",
    "                self._cb(\"before_batch\")\n",
    "                preds = self.model.forward(xb)\n",
    "                self.batch_loss = self.loss_fn(preds, yb).mean()\n",
    "                self.batch_loss.backward()\n",
    "        \n",
    "                self.epoch_loss += loss\n",
    "                \n",
    "                self.optim.step()\n",
    "                self.optim.zero()\n",
    "                self._cb(\"after_batch\")\n",
    "\n",
    "            self.model.eval()\n",
    "            \n",
    "            val_x, val_y = self.dls.test.dataset[:]\n",
    "            self.val_preds = self.model.forward(val_x)\n",
    "            self.val_loss = self.loss_fn(val_preds, val_y).mean()\n",
    "            self._cb(\"after_epoch\")\n",
    "        self._cb(\"after_fit\")"
   ]
  },
  {
   "cell_type": "code",
   "execution_count": 61,
   "id": "6d8358a9-27cc-418e-9645-43716f7d4339",
   "metadata": {},
   "outputs": [],
   "source": [
    "class AccuracyCb:\n",
    "    metric = None\n",
    "    name = \"Accuracy\"\n",
    "    def after_epoch(self, learner):\n",
    "        self.metric = (learner.val_preds.max(1).indices == learner.dls.test.dataset[:][1]).float().mean().item()\n",
    "        "
   ]
  },
  {
   "cell_type": "code",
   "execution_count": 62,
   "id": "234905cb-9fc4-40d5-942b-b3ed9b3dfa93",
   "metadata": {},
   "outputs": [],
   "source": [
    "class ProgressCb_2:\n",
    "    start_time\n",
    "    end_time\n",
    "    \n",
    "    def __init__(self, gpu_stats, metric_cb):\n",
    "        self.gpu = gpu_stats\n",
    "        self.metric_cb = metric_cb\n",
    "\n",
    "    def before_epoch(self, learner):\n",
    "        self.start_time = time.time()\n",
    "\n",
    "    def after_epoch(self, learner):\n",
    "        self.end_time = time.time()\n",
    "        dur = self.end_time - self.start_time\n",
    "        print(f'Epoch: {learner.current_epoch+1} | Time: {dur:.2f}s | Train Loss: {learner.epoch_loss:.2f} | Valid loss: {learner.val_loss:.2f} | {self.metric_cb.name}: {self.metric_cb.metric:.2f} | Allocated memory: {self.gpu.alloc_mem[-1]:.2f} Mb | Cached memory: {self.gpu.cache_mem[-1]:.2f} Mb')"
   ]
  },
  {
   "cell_type": "code",
   "execution_count": 63,
   "id": "f0a2001d-5267-4a80-985c-f3d00b200376",
   "metadata": {},
   "outputs": [
    {
     "name": "stdout",
     "output_type": "stream",
     "text": [
      "Epoch: 1 | Time: 0.15s | Train Loss: 17.24 | Valid loss: 0.36 | Accuracy: 0.90 | Allocated memory: 360.10 Mb | Cached memory: 376.00 Mb\n",
      "Epoch: 2 | Time: 0.06s | Train Loss: 17.24 | Valid loss: 0.36 | Accuracy: 0.91 | Allocated memory: 359.96 Mb | Cached memory: 376.00 Mb\n",
      "Epoch: 3 | Time: 0.05s | Train Loss: 17.24 | Valid loss: 0.36 | Accuracy: 0.91 | Allocated memory: 360.48 Mb | Cached memory: 376.00 Mb\n",
      "Epoch: 4 | Time: 0.06s | Train Loss: 17.24 | Valid loss: 0.36 | Accuracy: 0.91 | Allocated memory: 359.96 Mb | Cached memory: 376.00 Mb\n",
      "Epoch: 5 | Time: 0.06s | Train Loss: 17.24 | Valid loss: 0.36 | Accuracy: 0.91 | Allocated memory: 360.48 Mb | Cached memory: 376.00 Mb\n"
     ]
    },
    {
     "data": {
      "image/png": "[encoded data removed]",
      "text/plain": [
       "<Figure size 800x100 with 2 Axes>"
      ]
     },
     "metadata": {},
     "output_type": "display_data"
    }
   ],
   "source": [
    "gpu_stats_cb = GPUStatsCb()\n",
    "accuracy_cb = AccuracyCb()\n",
    "learner_3 = Learner_3(model=model, optim=sgd_optim, dls=dls, loss_fn=ce_loss2, cbs=[gpu_stats_cb, accuracy_cb, ProgressCb_2(gpu_stats_cb, accuracy_cb)])\n",
    "learner_3.fit(5)"
   ]
  },
  {
   "cell_type": "markdown",
   "id": "735bc1a8-ad9b-491e-b88e-0851c6e896ad",
   "metadata": {},
   "source": [
    "# Iteration 8: Back Prop"
   ]
  },
  {
   "cell_type": "code",
   "execution_count": 73,
   "id": "4d070249-e733-464e-8f9c-28585bf47e5e",
   "metadata": {},
   "outputs": [
    {
     "data": {
      "text/plain": [
       "(torch.Size([50000, 784]), torch.Size([50000]))"
      ]
     },
     "execution_count": 73,
     "metadata": {},
     "output_type": "execute_result"
    }
   ],
   "source": [
    "x_train.shape, y_train.shape"
   ]
  },
  {
   "cell_type": "code",
   "execution_count": 154,
   "id": "0632215b-0a0c-4aa4-a48c-3ecc25b7a506",
   "metadata": {},
   "outputs": [],
   "source": [
    "N = x_train.shape[0]\n",
    "inp_dim = x_train.shape[1]\n",
    "n_hidden = 12\n",
    "n_classes = len(classes)\n",
    "\n",
    "w1 = torch.rand(inp_dim, n_hidden).to(device) - 0.5\n",
    "b1 = torch.rand(n_hidden).to(device) - 0.5\n",
    "\n",
    "w2 = torch.rand(n_hidden, n_classes).to(device) - 0.5\n",
    "b2 = torch.rand(n_classes).to(device) - 0.5"
   ]
  },
  {
   "cell_type": "code",
   "execution_count": 155,
   "id": "e26d2f9f-1f40-479a-97b8-b0838c79f993",
   "metadata": {},
   "outputs": [],
   "source": [
    "def lin(x, w, b): return x@w + b"
   ]
  },
  {
   "cell_type": "code",
   "execution_count": 156,
   "id": "c4290d58-9ea7-4902-9035-13c3e81c1cce",
   "metadata": {},
   "outputs": [
    {
     "data": {
      "text/plain": [
       "(torch.Size([50000, 12]), tensor(290916., device='cuda:0'))"
      ]
     },
     "execution_count": 156,
     "metadata": {},
     "output_type": "execute_result"
    }
   ],
   "source": [
    "l1 = lin(x_train, w1, b1)\n",
    "l1.shape, (l1<0).float().sum()"
   ]
  },
  {
   "cell_type": "code",
   "execution_count": 157,
   "id": "db162055-826e-43b4-b28e-904b79049c0f",
   "metadata": {},
   "outputs": [
    {
     "data": {
      "text/plain": [
       "tensor(0., device='cuda:0')"
      ]
     },
     "execution_count": 157,
     "metadata": {},
     "output_type": "execute_result"
    }
   ],
   "source": [
    "def relu(x): return x.clamp(min=0)\n",
    "\n",
    "relu1 = relu(l1); (relu1<0).float().sum()"
   ]
  },
  {
   "cell_type": "code",
   "execution_count": 158,
   "id": "4af060ee-b58c-4f76-8ca8-c8e204a5c827",
   "metadata": {},
   "outputs": [
    {
     "data": {
      "text/plain": [
       "torch.Size([50000, 10])"
      ]
     },
     "execution_count": 158,
     "metadata": {},
     "output_type": "execute_result"
    }
   ],
   "source": [
    "# Forward pass\n",
    "l1 = lin(x_train, w1, b1)\n",
    "relu1 = relu(l1)\n",
    "result = lin(relu1, w2, b2)\n",
    "result.shape"
   ]
  },
  {
   "cell_type": "code",
   "execution_count": 159,
   "id": "8a9b0fec-3e03-4a2e-bcd1-b88abd8ada68",
   "metadata": {},
   "outputs": [
    {
     "data": {
      "text/plain": [
       "tensor(305.4591, device='cuda:0')"
      ]
     },
     "execution_count": 159,
     "metadata": {},
     "output_type": "execute_result"
    }
   ],
   "source": [
    "# MSE Loss\n",
    "diff = y_train[:, None] - result\n",
    "loss = diff.pow(2).sum(1).mean()\n",
    "loss"
   ]
  },
  {
   "cell_type": "code",
   "execution_count": 153,
   "id": "82a6c87a-1fc7-410a-b905-910490961772",
   "metadata": {},
   "outputs": [],
   "source": [
    "# Backward pass\n",
    "# loss.backward() should give me a gradient on result. Basically, in this step I want to know how the loss changes with result. The derivative of MSE is 2*(p - y)/n\n",
    "result.g = -2*diff/N\n",
    "\n",
    "# Now I have to get the gradients of w2 and b2\n"
   ]
  },
  {
   "cell_type": "code",
   "execution_count": null,
   "id": "f9ee7420-89ef-44c2-a5c7-1e0b4480c803",
   "metadata": {},
   "outputs": [],
   "source": []
  }
 ],
 "metadata": {
  "kernelspec": {
   "display_name": "Python 3 (ipykernel)",
   "language": "python",
   "name": "python3"
  },
  "language_info": {
   "codemirror_mode": {
    "name": "ipython",
    "version": 3
   },
   "file_extension": ".py",
   "mimetype": "text/x-python",
   "name": "python",
   "nbconvert_exporter": "python",
   "pygments_lexer": "ipython3",
   "version": "3.11.10"
  }
 },
 "nbformat": 4,
 "nbformat_minor": 5
}
