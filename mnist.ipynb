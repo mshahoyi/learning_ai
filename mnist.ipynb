{
 "cells": [
  {
   "cell_type": "markdown",
   "id": "a7cc98d6-a839-44b9-8025-91055d7a5cac",
   "metadata": {},
   "source": [
    "In this notebook, I will try to \n",
    "- Download the mnist dataset using pythons url retrieve.\n",
    "- Create dataset and dataloader objects.\n",
    "- Create a linear model model and train it.\n",
    "- Visualize GPU usage during training.\n",
    "- Visualize model parameter properties during training."
   ]
  },
  {
   "cell_type": "markdown",
   "id": "f742aeca-0e26-418f-b88d-f20e4ec5686e",
   "metadata": {},
   "source": [
    "# Iteration 1: Download and train"
   ]
  },
  {
   "cell_type": "markdown",
   "id": "7572ec29-e7e7-4063-aaf1-538769879fab",
   "metadata": {},
   "source": [
    "For this iteration, I will try to create a working model as fast and minimal as I can. The only concern is to create a working model and see the loss and accuracy of my model."
   ]
  },
  {
   "cell_type": "markdown",
   "id": "edf0fd14-27b0-4bd5-ad4c-1a5753c6124f",
   "metadata": {},
   "source": [
    "## Download MNIST"
   ]
  },
  {
   "cell_type": "code",
   "execution_count": 4,
   "id": "615f077e-7520-4972-a123-47a7234415f0",
   "metadata": {},
   "outputs": [],
   "source": [
    "MNIST_URL='https://github.com/mnielsen/neural-networks-and-deep-learning/blob/master/data/mnist.pkl.gz?raw=true'"
   ]
  },
  {
   "cell_type": "code",
   "execution_count": 5,
   "id": "69f7478d-eab0-49d3-b17d-1f32302b44f0",
   "metadata": {},
   "outputs": [
    {
     "data": {
      "text/plain": [
       "(PosixPath('/home/ec2-user/app/data'),\n",
       " PosixPath('/home/ec2-user/app/data/mnist.pkl.gz'))"
      ]
     },
     "execution_count": 5,
     "metadata": {},
     "output_type": "execute_result"
    }
   ],
   "source": [
    "from pathlib import Path\n",
    "\n",
    "data_path = Path(\"../data\")\n",
    "data_path.mkdir(exist_ok=True)\n",
    "\n",
    "mnist_path = data_path / 'mnist.pkl.gz'\n",
    "data_path.resolve(), mnist_path.resolve()"
   ]
  },
  {
   "cell_type": "code",
   "execution_count": 6,
   "id": "f4d89288-cdfe-4221-8c4b-3f8381120a22",
   "metadata": {},
   "outputs": [
    {
     "name": "stdout",
     "output_type": "stream",
     "text": [
      "mnist.pkl  mnist.pkl.gz\n"
     ]
    }
   ],
   "source": [
    "from urllib.request import urlretrieve\n",
    "\n",
    "if not mnist_path.exists(): urlretrieve(MNIST_URL, mnist_path)\n",
    "!ls ../data"
   ]
  },
  {
   "cell_type": "markdown",
   "id": "780d0ecf-48ea-48ba-8bd1-b83f559ce0d1",
   "metadata": {},
   "source": [
    "## Decompress & load"
   ]
  },
  {
   "cell_type": "code",
   "execution_count": 7,
   "id": "65d30e67-3f97-4500-ab67-af82171a3d95",
   "metadata": {},
   "outputs": [
    {
     "name": "stdout",
     "output_type": "stream",
     "text": [
      "mnist.pkl  mnist.pkl.gz\n"
     ]
    }
   ],
   "source": [
    "import gzip\n",
    "import shutil\n",
    "\n",
    "mnist_pkl_path = data_path / 'mnist.pkl'\n",
    "\n",
    "if not mnist_pkl_path.exists():\n",
    "    with gzip.open(mnist_path, 'rb') as f_in:\n",
    "        with open(mnist_pkl_path, 'wb') as f_out:\n",
    "            shutil.copyfileobj(f_in, f_out)\n",
    "\n",
    "!ls ../data"
   ]
  },
  {
   "cell_type": "code",
   "execution_count": 8,
   "id": "3e544fd6-5378-49da-b596-79f09481b6b9",
   "metadata": {},
   "outputs": [],
   "source": [
    "import pickle\n",
    "\n",
    "with open(mnist_pkl_path, 'rb') as file:\n",
    "    mnist_data = pickle.load(file, encoding='latin1')\n",
    "\n",
    "((x_train_np, y_train_np), (x_valid_np, y_valid_np), _) = mnist_data"
   ]
  },
  {
   "cell_type": "code",
   "execution_count": 9,
   "id": "658ee831-666a-48be-97fe-94f091a8a20e",
   "metadata": {},
   "outputs": [
    {
     "data": {
      "text/plain": [
       "<torch._C.Generator at 0x7f0ef82d2c10>"
      ]
     },
     "execution_count": 9,
     "metadata": {},
     "output_type": "execute_result"
    }
   ],
   "source": [
    "import torch\n",
    "\n",
    "torch.set_printoptions(linewidth=140)\n",
    "torch.manual_seed(42)"
   ]
  },
  {
   "cell_type": "code",
   "execution_count": 10,
   "id": "e70c9d41-7a66-4e05-b1d9-397f5c008bd4",
   "metadata": {},
   "outputs": [
    {
     "data": {
      "text/plain": [
       "(torch.Size([50000, 784]),\n",
       " torch.Size([50000]),\n",
       " torch.Size([10000, 784]),\n",
       " torch.Size([10000]))"
      ]
     },
     "execution_count": 10,
     "metadata": {},
     "output_type": "execute_result"
    }
   ],
   "source": [
    "x_train, y_train, x_valid, y_valid = torch.tensor(x_train_np), torch.tensor(y_train_np), torch.tensor(x_valid_np), torch.tensor(y_valid_np)\n",
    "x_train.shape, y_train.shape, x_valid.shape, y_valid.shape"
   ]
  },
  {
   "cell_type": "markdown",
   "id": "40b42cef-eacc-4345-ae59-be9923a61b30",
   "metadata": {},
   "source": [
    "## Visualize an image"
   ]
  },
  {
   "cell_type": "code",
   "execution_count": 11,
   "id": "452e8f76-51c5-4949-b1b9-43ac2b949666",
   "metadata": {},
   "outputs": [
    {
     "data": {
      "text/plain": [
       "(<matplotlib.image.AxesImage at 0x7f0e1d130810>, tensor(5))"
      ]
     },
     "execution_count": 11,
     "metadata": {},
     "output_type": "execute_result"
    },
    {
     "data": {
      "image/png": "[encoded data removed]",
      "text/plain": [
       "<Figure size 640x480 with 1 Axes>"
      ]
     },
     "metadata": {},
     "output_type": "display_data"
    }
   ],
   "source": [
    "from matplotlib import pyplot as plt\n",
    "\n",
    "plt.imshow(x_train[0].reshape(-1, 28), cmap='grey'), y_train[0]"
   ]
  },
  {
   "cell_type": "markdown",
   "id": "c4de16e6-316c-4562-91df-f77a4a320e83",
   "metadata": {},
   "source": [
    "## Simple linear model"
   ]
  },
  {
   "cell_type": "code",
   "execution_count": 103,
   "id": "ba5a8b55-841c-495c-83e2-516769894032",
   "metadata": {},
   "outputs": [],
   "source": [
    "# The model will have 28*28 input layer, no hidden layer, and 10 output layers.\n",
    "# The ten outputs each will have 784 weights and one bias. So the model has 7840 + 10 parameters.\n",
    "\n",
    "class Linear():\n",
    "    def __init__(self):\n",
    "        n_out = 10\n",
    "        n_in = x_train.shape[1]\n",
    "        self.weights = torch.rand((n_in, n_out))\n",
    "        self.biases = torch.rand(n_out)\n",
    "\n",
    "    def forward(self, xb):\n",
    "        return torch.einsum('ij,jk->ik', xb, self.weights) + self.biases"
   ]
  },
  {
   "cell_type": "code",
   "execution_count": 104,
   "id": "4a809b04-5c90-4ae2-8422-59571c9c6910",
   "metadata": {},
   "outputs": [
    {
     "data": {
      "text/plain": [
       "tensor([[57.5381, 59.7699, 53.1264, 51.5986, 55.3418, 50.2172, 58.1080, 52.3050, 54.2571, 55.8246],\n",
       "        [61.1310, 66.0725, 60.7356, 58.0723, 61.8369, 59.2643, 63.4841, 60.1125, 65.1666, 66.0998],\n",
       "        [36.7878, 37.3787, 37.7708, 38.4218, 41.6881, 34.1316, 40.6621, 39.0544, 41.8729, 40.5128],\n",
       "        [33.8475, 36.3857, 32.8703, 36.4713, 35.3677, 35.5467, 36.2017, 32.9389, 33.2640, 40.6796],\n",
       "        [45.8887, 45.4374, 46.2041, 42.6716, 48.3483, 43.5569, 48.0709, 47.9589, 48.3373, 52.9960]])"
      ]
     },
     "execution_count": 104,
     "metadata": {},
     "output_type": "execute_result"
    }
   ],
   "source": [
    "model = Linear()\n",
    "preds = model.forward(x_train[:5]); preds"
   ]
  },
  {
   "cell_type": "markdown",
   "id": "888b1106-40d4-409e-b9be-77ba4dead4f4",
   "metadata": {},
   "source": [
    "## Softmax"
   ]
  },
  {
   "cell_type": "code",
   "execution_count": 105,
   "id": "857d6882-5c31-4545-95ca-29aca73458c7",
   "metadata": {},
   "outputs": [
    {
     "data": {
      "text/plain": [
       "tensor([[8.0419e-02, 7.4925e-01, 9.7592e-04, 2.1178e-04, 8.9444e-03, 5.3207e-05, 1.4220e-01, 4.2923e-04, 3.0232e-03, 1.4495e-02],\n",
       "        [2.8153e-03, 3.9410e-01, 1.8960e-03, 1.3218e-04, 5.7027e-03, 4.3535e-04, 2.9612e-02, 1.0167e-03, 1.5929e-01, 4.0499e-01],\n",
       "        [2.4638e-03, 4.4487e-03, 6.5843e-03, 1.2625e-02, 3.3097e-01, 1.7300e-04, 1.1863e-01, 2.3768e-02, 3.9816e-01, 1.0218e-01],\n",
       "        [1.0242e-03, 1.2962e-02, 3.8544e-04, 1.4120e-02, 4.6832e-03, 5.6013e-03, 1.0784e-02, 4.1279e-04, 5.7140e-04, 9.4946e-01],\n",
       "        [7.9115e-04, 5.0379e-04, 1.0844e-03, 3.1701e-05, 9.2558e-03, 7.6831e-05, 7.0137e-03, 6.2707e-03, 9.1545e-03, 9.6582e-01]])"
      ]
     },
     "execution_count": 105,
     "metadata": {},
     "output_type": "execute_result"
    }
   ],
   "source": [
    "preds = preds.exp() / preds.exp().sum(1)[:, None]; preds"
   ]
  },
  {
   "cell_type": "code",
   "execution_count": 106,
   "id": "baedd5b4-74c7-41b7-85e9-083faada13e0",
   "metadata": {},
   "outputs": [
    {
     "data": {
      "text/plain": [
       "tensor([0, 1, 2, 3, 4, 5, 6, 7, 8, 9])"
      ]
     },
     "execution_count": 106,
     "metadata": {},
     "output_type": "execute_result"
    }
   ],
   "source": [
    "classes = torch.arange(0, 10); classes"
   ]
  },
  {
   "cell_type": "code",
   "execution_count": 107,
   "id": "b8b50dd7-4da0-4725-9c98-36ebf8cc6973",
   "metadata": {},
   "outputs": [
    {
     "data": {
      "text/plain": [
       "<BarContainer object of 10 artists>"
      ]
     },
     "execution_count": 107,
     "metadata": {},
     "output_type": "execute_result"
    },
    {
     "data": {
      "image/png": "[encoded data removed]",
      "text/plain": [
       "<Figure size 640x480 with 1 Axes>"
      ]
     },
     "metadata": {},
     "output_type": "display_data"
    }
   ],
   "source": [
    "plt.bar(classes, preds[0])"
   ]
  },
  {
   "cell_type": "code",
   "execution_count": 108,
   "id": "bb655c2e-e816-4a4c-9d1f-369036441d19",
   "metadata": {},
   "outputs": [],
   "source": [
    "import numpy as np\n",
    "np.set_printoptions(linewidth=180)"
   ]
  },
  {
   "cell_type": "code",
   "execution_count": 109,
   "id": "63f65152-0b7d-40c5-aec5-188484ceac7e",
   "metadata": {},
   "outputs": [
    {
     "data": {
      "text/plain": [
       "tensor([[0.7492],\n",
       "        [0.4050],\n",
       "        [0.3982],\n",
       "        [0.9495],\n",
       "        [0.9658]])"
      ]
     },
     "execution_count": 109,
     "metadata": {},
     "output_type": "execute_result"
    }
   ],
   "source": [
    "torch.max(preds, axis=1).values[:, None]"
   ]
  },
  {
   "cell_type": "code",
   "execution_count": 178,
   "id": "40530677-63a4-470a-bcbf-601b3581386e",
   "metadata": {},
   "outputs": [],
   "source": [
    "def softmax(x): \n",
    "    x = x - torch.max(x, axis=1).values[:, None]\n",
    "    return x.exp() / x.exp().sum(1)[:, None]\n",
    "\n",
    "class Linear():\n",
    "    def __init__(self, final_act=softmax):\n",
    "        n_out = 10\n",
    "        n_in = x_train.shape[1]\n",
    "        self.weights = torch.rand((n_in, n_out))\n",
    "        self.biases = torch.rand(n_out)\n",
    "        self.final_act = final_act\n",
    "\n",
    "    def forward(self, xb):\n",
    "        return self.final_act(torch.einsum('ij,jk->ik', xb, self.weights) + self.biases)\n",
    "\n",
    "    def train(self):\n",
    "        self.weights.requires_grad_(True)\n",
    "        self.biases.requires_grad_(True)\n",
    "    \n",
    "    def eval(self):\n",
    "        self.weights.requires_grad_(False)\n",
    "        self.biases.requires_grad_(False)"
   ]
  },
  {
   "cell_type": "code",
   "execution_count": 179,
   "id": "1c82045c-ad13-431b-b553-62281f2d45fb",
   "metadata": {},
   "outputs": [
    {
     "data": {
      "text/plain": [
       "tensor([[3.4966e-03, 9.3515e-05, 6.9504e-04, 8.5250e-01, 1.4529e-02, 3.3481e-03, 8.3933e-02, 1.1744e-02, 1.5557e-02, 1.4107e-02],\n",
       "        [1.5890e-03, 3.6799e-06, 8.2940e-05, 8.6565e-04, 2.1798e-05, 2.2139e-04, 9.9333e-01, 6.2456e-04, 1.2658e-04, 3.1330e-03],\n",
       "        [2.1488e-02, 1.9553e-02, 1.6595e-01, 1.8106e-01, 1.6877e-01, 2.0404e-01, 1.5550e-01, 2.9267e-02, 4.6156e-02, 8.2191e-03],\n",
       "        [1.2782e-01, 9.8765e-03, 1.9473e-02, 6.1934e-01, 5.4203e-02, 6.0890e-02, 1.8767e-02, 2.3606e-02, 6.1433e-02, 4.6000e-03],\n",
       "        [1.7558e-01, 2.1133e-02, 8.5846e-03, 6.2476e-01, 2.0836e-02, 1.7236e-03, 1.0277e-01, 4.2586e-02, 5.2362e-04, 1.5069e-03]])"
      ]
     },
     "execution_count": 179,
     "metadata": {},
     "output_type": "execute_result"
    }
   ],
   "source": [
    "model = Linear()\n",
    "preds = model.forward(x_train[:5]); preds"
   ]
  },
  {
   "cell_type": "code",
   "execution_count": 180,
   "id": "5fb8c75d-6147-47ec-8986-f0474646d4e8",
   "metadata": {},
   "outputs": [
    {
     "data": {
      "text/plain": [
       "<BarContainer object of 10 artists>"
      ]
     },
     "execution_count": 180,
     "metadata": {},
     "output_type": "execute_result"
    },
    {
     "data": {
      "image/png": "[encoded data removed]",
      "text/plain": [
       "<Figure size 640x480 with 1 Axes>"
      ]
     },
     "metadata": {},
     "output_type": "display_data"
    }
   ],
   "source": [
    "plt.bar(classes, preds[0])"
   ]
  },
  {
   "cell_type": "code",
   "execution_count": 181,
   "id": "894ac294-7f45-45c2-9ae0-9029254ff57b",
   "metadata": {},
   "outputs": [],
   "source": [
    "from fastcore.all import *\n",
    "import torch.nn.functional as F"
   ]
  },
  {
   "cell_type": "code",
   "execution_count": 182,
   "id": "991842b2-cd59-47fb-a588-819fb5de7430",
   "metadata": {},
   "outputs": [],
   "source": [
    "test_close(F.softmax(preds, dim=1), softmax(preds))"
   ]
  },
  {
   "cell_type": "markdown",
   "id": "7d8da4a8-8336-485e-bc73-6e325f0a5755",
   "metadata": {},
   "source": [
    "## Loss function"
   ]
  },
  {
   "cell_type": "code",
   "execution_count": 183,
   "id": "c77a8925-d89b-440c-b1b9-a0521343d2b4",
   "metadata": {},
   "outputs": [
    {
     "data": {
      "text/plain": [
       "tensor([-5.6994, -6.4446, -1.7792, -4.6176, -6.4977])"
      ]
     },
     "execution_count": 183,
     "metadata": {},
     "output_type": "execute_result"
    }
   ],
   "source": [
    "y_train_oh = F.one_hot(y_train, num_classes=len(classes))\n",
    "\n",
    "# should give me a big loss for 5\n",
    "(y_train_oh[:5]*preds.log()).sum(1)"
   ]
  },
  {
   "cell_type": "code",
   "execution_count": 184,
   "id": "7ec385e2-f6af-47f7-a477-af638022cb13",
   "metadata": {},
   "outputs": [
    {
     "data": {
      "text/plain": [
       "tensor([nan, nan, nan, nan, nan, 0., nan, nan, nan, nan])"
      ]
     },
     "execution_count": 184,
     "metadata": {},
     "output_type": "execute_result"
    }
   ],
   "source": [
    "# should be zero\n",
    "true_pred = torch.zeros(10); true_pred[5] = 1; true_pred\n",
    "y_train_oh[0]*true_pred.log()"
   ]
  },
  {
   "cell_type": "code",
   "execution_count": 185,
   "id": "aab8037a-fb75-45bd-be47-e6b11fbce3a2",
   "metadata": {},
   "outputs": [],
   "source": [
    "def ce_loss(preds, targets_oh):\n",
    "    return (-targets_oh*preds.log()).sum(1)"
   ]
  },
  {
   "cell_type": "code",
   "execution_count": 186,
   "id": "dacaccc6-6528-42b8-ae3d-1e45643f9bb5",
   "metadata": {},
   "outputs": [
    {
     "data": {
      "text/plain": [
       "tensor([5.6994, 6.4446, 1.7792, 4.6176, 6.4977])"
      ]
     },
     "execution_count": 186,
     "metadata": {},
     "output_type": "execute_result"
    }
   ],
   "source": [
    "ce_loss(preds, y_train_oh[:5])"
   ]
  },
  {
   "cell_type": "markdown",
   "id": "20e1dad4-0d52-471b-bfde-7cb2b21bea25",
   "metadata": {},
   "source": [
    "## Training"
   ]
  },
  {
   "cell_type": "code",
   "execution_count": 196,
   "id": "37d3702d-3b12-403d-9154-99bbdd776990",
   "metadata": {},
   "outputs": [
    {
     "data": {
      "text/plain": [
       "torch.return_types.max(\n",
       "values=tensor([2.7945, 1.6945]),\n",
       "indices=tensor([5, 2]))"
      ]
     },
     "execution_count": 196,
     "metadata": {},
     "output_type": "execute_result"
    }
   ],
   "source": [
    "torch.randn(10, 2).max(0)"
   ]
  },
  {
   "cell_type": "code",
   "execution_count": 214,
   "id": "5805b7e3-d971-4d5d-b70b-feefe9125a19",
   "metadata": {},
   "outputs": [
    {
     "name": "stdout",
     "output_type": "stream",
     "text": [
      "Epoch: 0 | Loss: 0.42 | Accuracy: 0.89\n",
      "Epoch: 1 | Loss: 0.40 | Accuracy: 0.89\n",
      "Epoch: 2 | Loss: 0.39 | Accuracy: 0.90\n",
      "Epoch: 3 | Loss: 0.38 | Accuracy: 0.90\n",
      "Epoch: 4 | Loss: 0.37 | Accuracy: 0.90\n",
      "Epoch: 5 | Loss: 0.36 | Accuracy: 0.90\n",
      "Epoch: 6 | Loss: 0.36 | Accuracy: 0.90\n",
      "Epoch: 7 | Loss: 0.35 | Accuracy: 0.90\n",
      "Epoch: 8 | Loss: 0.34 | Accuracy: 0.90\n",
      "Epoch: 9 | Loss: 0.34 | Accuracy: 0.91\n",
      "Epoch: 10 | Loss: 0.34 | Accuracy: 0.91\n",
      "Epoch: 11 | Loss: 0.33 | Accuracy: 0.91\n",
      "Epoch: 12 | Loss: 0.33 | Accuracy: 0.91\n",
      "Epoch: 13 | Loss: 0.32 | Accuracy: 0.91\n",
      "Epoch: 14 | Loss: 0.32 | Accuracy: 0.91\n",
      "Epoch: 15 | Loss: 0.32 | Accuracy: 0.91\n",
      "Epoch: 16 | Loss: 0.31 | Accuracy: 0.91\n",
      "Epoch: 17 | Loss: 0.31 | Accuracy: 0.91\n",
      "Epoch: 18 | Loss: 0.31 | Accuracy: 0.91\n",
      "Epoch: 19 | Loss: 0.31 | Accuracy: 0.91\n",
      "Epoch: 20 | Loss: 0.30 | Accuracy: 0.91\n",
      "Epoch: 21 | Loss: 0.30 | Accuracy: 0.91\n",
      "Epoch: 22 | Loss: 0.30 | Accuracy: 0.91\n",
      "Epoch: 23 | Loss: 0.30 | Accuracy: 0.91\n",
      "Epoch: 24 | Loss: 0.30 | Accuracy: 0.91\n",
      "Epoch: 25 | Loss: 0.29 | Accuracy: 0.91\n",
      "Epoch: 26 | Loss: 0.29 | Accuracy: 0.91\n",
      "Epoch: 27 | Loss: 0.29 | Accuracy: 0.91\n",
      "Epoch: 28 | Loss: 0.29 | Accuracy: 0.92\n",
      "Epoch: 29 | Loss: 0.29 | Accuracy: 0.92\n",
      "Epoch: 30 | Loss: 0.29 | Accuracy: 0.92\n",
      "Epoch: 31 | Loss: 0.29 | Accuracy: 0.92\n",
      "Epoch: 32 | Loss: 0.28 | Accuracy: 0.92\n",
      "Epoch: 33 | Loss: 0.28 | Accuracy: 0.92\n",
      "Epoch: 34 | Loss: 0.28 | Accuracy: 0.92\n",
      "Epoch: 35 | Loss: 0.28 | Accuracy: 0.92\n",
      "Epoch: 36 | Loss: 0.28 | Accuracy: 0.92\n",
      "Epoch: 37 | Loss: 0.28 | Accuracy: 0.92\n",
      "Epoch: 38 | Loss: 0.28 | Accuracy: 0.92\n",
      "Epoch: 39 | Loss: 0.28 | Accuracy: 0.92\n",
      "Epoch: 40 | Loss: 0.28 | Accuracy: 0.92\n",
      "Epoch: 41 | Loss: 0.28 | Accuracy: 0.92\n",
      "Epoch: 42 | Loss: 0.27 | Accuracy: 0.92\n",
      "Epoch: 43 | Loss: 0.27 | Accuracy: 0.92\n",
      "Epoch: 44 | Loss: 0.27 | Accuracy: 0.92\n",
      "Epoch: 45 | Loss: 0.27 | Accuracy: 0.92\n",
      "Epoch: 46 | Loss: 0.27 | Accuracy: 0.92\n",
      "Epoch: 47 | Loss: 0.27 | Accuracy: 0.92\n",
      "Epoch: 48 | Loss: 0.27 | Accuracy: 0.92\n",
      "Epoch: 49 | Loss: 0.27 | Accuracy: 0.92\n"
     ]
    }
   ],
   "source": [
    "epoch = 50\n",
    "lr = 0.01\n",
    "bs = 64\n",
    "\n",
    "for e in range(epoch):\n",
    "    epoch_loss = 0\n",
    "    for b in range(0, len(x_train) - bs, bs):\n",
    "        model.train()\n",
    "        xb = x_train[b:b+bs]\n",
    "        preds = model.forward(xb)\n",
    "        loss = ce_loss(preds, y_train_oh[b:b+bs]).mean()\n",
    "        loss.backward()\n",
    "\n",
    "        epoch_loss += loss\n",
    "        \n",
    "        with torch.no_grad():\n",
    "            model.weights -= lr*model.weights.grad\n",
    "            model.weights.grad.zero_()\n",
    "            model.biases -= lr*model.biases.grad\n",
    "            model.biases.grad.zero_()\n",
    "        \n",
    "    model.eval()\n",
    "    accuracy = (model.forward(x_train).max(1).indices == y_train).float().mean().item()\n",
    "    print(f'Epoch: {e+1} | Loss: {loss:.2f} | Accuracy: {accuracy:.2f}')\n"
   ]
  },
  {
   "cell_type": "code",
   "execution_count": null,
   "id": "c8ae228d-73ca-4f1e-b483-1101da7f6bd7",
   "metadata": {},
   "outputs": [],
   "source": []
  }
 ],
 "metadata": {
  "kernelspec": {
   "display_name": "Python 3 (ipykernel)",
   "language": "python",
   "name": "python3"
  },
  "language_info": {
   "codemirror_mode": {
    "name": "ipython",
    "version": 3
   },
   "file_extension": ".py",
   "mimetype": "text/x-python",
   "name": "python",
   "nbconvert_exporter": "python",
   "pygments_lexer": "ipython3",
   "version": "3.11.10"
  }
 },
 "nbformat": 4,
 "nbformat_minor": 5
}
